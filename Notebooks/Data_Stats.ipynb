{
  "nbformat": 4,
  "nbformat_minor": 0,
  "metadata": {
    "colab": {
      "name": "Data_Stats.ipynb",
      "provenance": [],
      "collapsed_sections": [],
      "authorship_tag": "ABX9TyM/w4BblmAgfdFQd51qs6Rc",
      "include_colab_link": true
    },
    "kernelspec": {
      "name": "python3",
      "display_name": "Python 3"
    }
  },
  "cells": [
    {
      "cell_type": "markdown",
      "metadata": {
        "id": "view-in-github",
        "colab_type": "text"
      },
      "source": [
        "<a href=\"https://colab.research.google.com/github/gowun/BladderCancer_AMC/blob/master/Notebooks/Data_Stats.ipynb\" target=\"_parent\"><img src=\"https://colab.research.google.com/assets/colab-badge.svg\" alt=\"Open In Colab\"/></a>"
      ]
    },
    {
      "cell_type": "code",
      "metadata": {
        "id": "AstgoBzjDNgD",
        "colab": {
          "base_uri": "https://localhost:8080/"
        },
        "outputId": "3cd1d121-66ca-4884-80dc-8bdc270acb63"
      },
      "source": [
        "from google.colab import auth\n",
        "from google.colab import drive\n",
        "import pandas as pd\n",
        "import numpy as np\n",
        "\n",
        "pd.set_option('display.max_colwidth', -1)\n",
        "\n",
        "auth.authenticate_user()\n",
        "drive.mount('/content/gdrive')\n",
        "home_path = '/content/gdrive/My Drive/BladderCancer_AMC/'"
      ],
      "execution_count": null,
      "outputs": [
        {
          "output_type": "stream",
          "text": [
            "/usr/local/lib/python3.6/dist-packages/ipykernel_launcher.py:6: FutureWarning: Passing a negative integer is deprecated in version 1.0 and will not be supported in future version. Instead, use None to not limit the column width.\n",
            "  \n"
          ],
          "name": "stderr"
        },
        {
          "output_type": "stream",
          "text": [
            "Mounted at /content/gdrive\n"
          ],
          "name": "stdout"
        }
      ]
    },
    {
      "cell_type": "code",
      "metadata": {
        "id": "pMMxRliQIe_3",
        "colab": {
          "base_uri": "https://localhost:8080/"
        },
        "outputId": "ba72e1ea-2ad4-47e0-f6b5-3ea0f89489a7"
      },
      "source": [
        "!git clone https://github.com/gowun/BladderCancer_AMC.git"
      ],
      "execution_count": null,
      "outputs": [
        {
          "output_type": "stream",
          "text": [
            "Cloning into 'BladderCancer_AMC'...\n",
            "remote: Enumerating objects: 108, done.\u001b[K\n",
            "remote: Counting objects: 100% (108/108), done.\u001b[K\n",
            "remote: Compressing objects: 100% (88/88), done.\u001b[K\n",
            "remote: Total 108 (delta 36), reused 64 (delta 17), pack-reused 0\u001b[K\n",
            "Receiving objects: 100% (108/108), 3.96 MiB | 5.01 MiB/s, done.\n",
            "Resolving deltas: 100% (36/36), done.\n"
          ],
          "name": "stdout"
        }
      ]
    },
    {
      "cell_type": "code",
      "metadata": {
        "id": "5nAmc5X6IuFK"
      },
      "source": [
        "from BladderCancer_AMC.ModelingTools import utils as ut\n",
        "from BladderCancer_AMC.ModelingTools import preprocessing as pp\n",
        "from BladderCancer_AMC.ModelingTools import figure as fg"
      ],
      "execution_count": null,
      "outputs": []
    },
    {
      "cell_type": "code",
      "metadata": {
        "id": "VrbuajJiJREs"
      },
      "source": [
        "ds_names = ['mda_mvac', 'mda_ddmvac', 'meta_datasets', 'amc']\n",
        "datasets4 = list(map(lambda x: ut.load_data(f'{home_path}{x}.pkl', 'pickle'), ds_names))"
      ],
      "execution_count": null,
      "outputs": []
    },
    {
      "cell_type": "markdown",
      "metadata": {
        "id": "zYGCI7VOliJB"
      },
      "source": [
        "1. 모든 데이터셋에 존재하는 컬럼 (intersect_cols) 및 각 데이터 내 intersect_cols 비율 "
      ]
    },
    {
      "cell_type": "code",
      "metadata": {
        "id": "q9eesGOXdlx4",
        "colab": {
          "base_uri": "https://localhost:8080/"
        },
        "outputId": "f87b9c2d-d20d-41e3-d1d5-e0724277c333"
      },
      "source": [
        "#### 전체 데이터셋 모두에서 등장하는 컬럼셋\n",
        "datasets4_cols = list(map(lambda x: set(x.columns), datasets4))\n",
        "intersect_cols = datasets4_cols[0]\n",
        "for cols in datasets4_cols[1:]:\n",
        "  intersect_cols = sorted(set(intersect_cols).intersection(cols))\n",
        "len(intersect_cols)"
      ],
      "execution_count": null,
      "outputs": [
        {
          "output_type": "execute_result",
          "data": {
            "text/plain": [
              "17000"
            ]
          },
          "metadata": {
            "tags": []
          },
          "execution_count": 5
        }
      ]
    },
    {
      "cell_type": "code",
      "metadata": {
        "id": "KgYVE5_JCgFK",
        "colab": {
          "base_uri": "https://localhost:8080/"
        },
        "outputId": "237bc05d-7ed9-4c57-ebb0-98a390bb17ff"
      },
      "source": [
        "intersect_cols.index('response')"
      ],
      "execution_count": null,
      "outputs": [
        {
          "output_type": "execute_result",
          "data": {
            "text/plain": [
              "16999"
            ]
          },
          "metadata": {
            "tags": []
          },
          "execution_count": 6
        }
      ]
    },
    {
      "cell_type": "code",
      "metadata": {
        "id": "7VrE2-0zgP8K",
        "colab": {
          "base_uri": "https://localhost:8080/"
        },
        "outputId": "73c4da01-236e-40f8-ba4f-dcbbf7f42bbd"
      },
      "source": [
        "## 데이터셋 별 intersect_cols 의 비율\n",
        "for i, cols in enumerate(datasets4_cols):\n",
        "  r = round(len(intersect_cols) / len(cols) * 100.0, 2)\n",
        "  print(f'{ds_names[i]}: {r}% from {len(cols)} Gene Symbols')"
      ],
      "execution_count": null,
      "outputs": [
        {
          "output_type": "stream",
          "text": [
            "mda_mvac: 81.98% from 20737 Gene Symbols\n",
            "mda_ddmvac: 81.7% from 20808 Gene Symbols\n",
            "meta_datasets: 36.94% from 46023 Gene Symbols\n",
            "amc: 69.49% from 24463 Gene Symbols\n"
          ],
          "name": "stdout"
        }
      ]
    },
    {
      "cell_type": "markdown",
      "metadata": {
        "id": "ByELnjk1lxPx"
      },
      "source": [
        "2. 주어진 각 Classifiers 중 intersect_cols에 포함된 비율"
      ]
    },
    {
      "cell_type": "code",
      "metadata": {
        "id": "WfSRY6qjmE7A"
      },
      "source": [
        "## Classifier.csv 로드 및 정제\n",
        "clfs = ut.load_data(home_path + 'Classifiers.csv', 'csv').T\n",
        "clfs"
      ],
      "execution_count": null,
      "outputs": []
    },
    {
      "cell_type": "code",
      "metadata": {
        "id": "W1O71pOSEcXF"
      },
      "source": [
        "added = np.array([['ADGRE5', 'AFAP1', 'ATAD3B', 'BGN', 'C11orf95', 'CADM4', 'CARD16', 'CD53', 'CDK6', 'DPH2', \n",
        "                   'INHBA', 'ITGAX', 'KCTD1', 'KCTD14', 'KIAA1671', 'MAP7D3', 'MYLK', 'NDUFC2-KCTD14', 'NEK6', 'NT5E', \n",
        "                   'OLFM4', 'P3H1', 'PCDHB9', 'PLEK', 'POSTN', 'PPIL2', 'PPP1R35', 'PTPRC', 'RFX7', 'SHANK3', \n",
        "                   'SIX5', 'TCAF2', 'TFAM', 'TMEM132A', 'UNC119B', 'YBX3P1'],\n",
        "                  ['ADGRE5', 'AFAP1', 'ATAD3B', 'BCR', 'BGN', 'BHLHE40', 'C11orf95', 'CADM4', 'CARD16', 'CD52', \n",
        "                   'CD53', 'CDH11', 'CDK6', 'COX17', 'DPH2', 'FKBP2', 'FYB', 'GADD45B', 'HCFC1R1', 'INHBA', \n",
        "                   'ITGAX', 'KCTD1', 'KCTD14', 'KIAA1671', 'LOC100130744', 'LOC284454', 'LOC648987', 'MAP7D3', 'MYLK' 'NDUFC2-KCTD14', \n",
        "                   'NEK6', 'NT5E', 'NUDT12', 'OLFM4', 'P3H1', 'PCDHB9', 'PLEK', 'POSTN', 'POU2F2', 'PPIL2', \n",
        "                   'PPP1R35', 'PTPRC', 'RFX7', 'SEPT6', 'SHANK3', 'SIX5', 'SLC15A3', 'TCAF2', 'TFAM', 'THBS2', \n",
        "                   'TMEM132A', 'TNFAIP8', 'UBE2T', 'UNC119B', 'YBX3P1']])"
      ],
      "execution_count": null,
      "outputs": []
    },
    {
      "cell_type": "code",
      "metadata": {
        "id": "9WqiTTmnmTjf"
      },
      "source": [
        "name_list = list(clfs.index)[:-1] + ['GESA_YES_Genes', 'Up_Regulated']\n",
        "clfs_dict = dict()\n",
        "for i, k_name in enumerate(name_list):\n",
        "  if i < len(name_list) - 2:\n",
        "    tmp = clfs.values[i][np.array(clfs.iloc[i].isna() == False)]\n",
        "  else:\n",
        "    ii = i - len(clfs) + 1\n",
        "    tmp = added[ii]\n",
        "  tmp1 = list(filter(lambda x: x in intersect_cols, tmp))\n",
        "  clfs_dict[k_name] = tmp1"
      ],
      "execution_count": null,
      "outputs": []
    },
    {
      "cell_type": "code",
      "metadata": {
        "id": "TtNOvyJKm1DL"
      },
      "source": [
        "ut.save_data(clfs_dict, home_path + 'intersect_classifiers.pkl', 'pickle')"
      ],
      "execution_count": null,
      "outputs": []
    },
    {
      "cell_type": "code",
      "metadata": {
        "id": "tip4HTmsoGag"
      },
      "source": [
        "clfs_df = pd.DataFrame(clfs_dict.values(), index=list(clfs_dict.keys())).T\n",
        "ut.save_data(clfs_df, home_path + 'intersect_classifiers.csv', 'csv')"
      ],
      "execution_count": null,
      "outputs": []
    },
    {
      "cell_type": "markdown",
      "metadata": {
        "id": "Rp90ccEKqSjv"
      },
      "source": [
        "3. 각 데이터셋의 기초 통계"
      ]
    },
    {
      "cell_type": "code",
      "metadata": {
        "id": "hskGU0bcojeI",
        "colab": {
          "base_uri": "https://localhost:8080/"
        },
        "outputId": "794a3de1-257b-4f7f-a0bc-38ac1cdf0d1b"
      },
      "source": [
        "%%time\n",
        "mean_datasets4 = list(map(lambda x: pp.handle_repeated_columns(x[intersect_cols])[1], datasets4))"
      ],
      "execution_count": null,
      "outputs": [
        {
          "output_type": "stream",
          "text": [
            "CPU times: user 44 s, sys: 610 ms, total: 44.6 s\n",
            "Wall time: 44 s\n"
          ],
          "name": "stdout"
        }
      ]
    },
    {
      "cell_type": "code",
      "metadata": {
        "id": "2DVKXH6Xbo_W"
      },
      "source": [
        "ut.save_data(mean_datasets4, f'{home_path}mean_datasets4.pkl', 'pickle')"
      ],
      "execution_count": null,
      "outputs": []
    },
    {
      "cell_type": "code",
      "metadata": {
        "id": "jgq56nHtA4Fp",
        "colab": {
          "base_uri": "https://localhost:8080/"
        },
        "outputId": "454e0838-987b-44ef-a219-1b9885ed2899"
      },
      "source": [
        "%%time\n",
        "for i, nm in enumerate(ds_names):\n",
        "  tmp = mean_datasets4[i].describe()\n",
        "  ut.save_data(tmp.reset_index(), f'{home_path}{nm}.csv', 'csv')"
      ],
      "execution_count": null,
      "outputs": [
        {
          "output_type": "stream",
          "text": [
            "CPU times: user 2min 3s, sys: 560 ms, total: 2min 3s\n",
            "Wall time: 2min 6s\n"
          ],
          "name": "stdout"
        }
      ]
    },
    {
      "cell_type": "markdown",
      "metadata": {
        "id": "Js6T4tnhbAum"
      },
      "source": [
        "4. Optimal Normalization Algorithm 도출"
      ]
    },
    {
      "cell_type": "code",
      "metadata": {
        "id": "v2r_zejjj1Mc"
      },
      "source": [
        "#methods = ['log2', 'log2_minmax', 'standard', 'minmax', 'max_abs', 'robust', 'power', 'quantile', 'rankgauss']\n",
        "methods = ['standard', 'power', 'rankgauss']"
      ],
      "execution_count": null,
      "outputs": []
    },
    {
      "cell_type": "code",
      "metadata": {
        "id": "zZeKiJk7cABP"
      },
      "source": [
        "%%time\n",
        "scaled_datasets4 = []\n",
        "for i, d in enumerate(mean_datasets4):\n",
        "  print(i)\n",
        "  tmp = pp.scale_with_scalers(d.drop(['response'], 1), methods)\n",
        "  scaled_datasets4.append(pp.scale_with_scalers(d, methods))"
      ],
      "execution_count": null,
      "outputs": []
    },
    {
      "cell_type": "code",
      "metadata": {
        "id": "LU5nmbpsgFeB",
        "colab": {
          "base_uri": "https://localhost:8080/"
        },
        "outputId": "e142143f-aceb-4d28-a4fe-98409cc5ca99"
      },
      "source": [
        "from itertools import combinations, chain\n",
        "orders = list(range(len(mean_datasets4)))\n",
        "orders = list(combinations(orders, 2))\n",
        "all_genes_in_clas = list(set(chain(*list(clfs_dict.values()))))\n",
        "orders, all_genes_in_clas"
      ],
      "execution_count": null,
      "outputs": [
        {
          "output_type": "execute_result",
          "data": {
            "text/plain": [
              "([(0, 1), (0, 2), (0, 3), (1, 2), (1, 3), (2, 3)],\n",
              " ['TP53',\n",
              "  'SYP',\n",
              "  'SPRR2D',\n",
              "  'KCNH2',\n",
              "  'SPINK1',\n",
              "  'TNIP3',\n",
              "  'LTK',\n",
              "  'CD3D',\n",
              "  'FMO9P',\n",
              "  'MSI1',\n",
              "  'SORBS1',\n",
              "  'PDGFRA',\n",
              "  'CYP2J2',\n",
              "  'TGFBI',\n",
              "  'HTT',\n",
              "  'ADA',\n",
              "  'CDH12',\n",
              "  'SERPINB13',\n",
              "  'ART5',\n",
              "  'NCOR1',\n",
              "  'ZCCHC12',\n",
              "  'PDZRN4',\n",
              "  'ZMAT3',\n",
              "  'CCNB2',\n",
              "  'ERN2',\n",
              "  'GPX3',\n",
              "  'CCL5',\n",
              "  'MYCN',\n",
              "  'CSTA',\n",
              "  'RHCG',\n",
              "  'B3GAT1',\n",
              "  'TWIST1',\n",
              "  'ABI3BP',\n",
              "  'RPL9',\n",
              "  'POU2F2',\n",
              "  'S100A8',\n",
              "  'DACT3',\n",
              "  'KRT20',\n",
              "  'MCM7',\n",
              "  'TFDP1',\n",
              "  'ANXA2',\n",
              "  'NRCAM',\n",
              "  'SMC2',\n",
              "  'CD3E',\n",
              "  'FEN1',\n",
              "  'DES',\n",
              "  'AOX1',\n",
              "  'BTBD16',\n",
              "  'SLC30A2',\n",
              "  'PM20D2',\n",
              "  'DPF1',\n",
              "  'NFKB1',\n",
              "  'KRT81',\n",
              "  'GABBR2',\n",
              "  'PIAS4',\n",
              "  'SDK2',\n",
              "  'HDC',\n",
              "  'MS4A1',\n",
              "  'ADAM33',\n",
              "  'CD24',\n",
              "  'ENHO',\n",
              "  'TMEM63A',\n",
              "  'ACTG2',\n",
              "  'CD247',\n",
              "  'PRNP',\n",
              "  'SGCD',\n",
              "  'CASQ2',\n",
              "  'MUC2',\n",
              "  'CHEK1',\n",
              "  'LMO3',\n",
              "  'RB1',\n",
              "  'ZEB2',\n",
              "  'IGFBP5',\n",
              "  'RPAP1',\n",
              "  'UHRF1',\n",
              "  'FABP4',\n",
              "  'HMGA2',\n",
              "  'SRF',\n",
              "  'UNC119B',\n",
              "  'PCP4',\n",
              "  'NOD2',\n",
              "  'DPT',\n",
              "  'ENO2',\n",
              "  'SFN',\n",
              "  'DCAKD',\n",
              "  'SNAP91',\n",
              "  'VSIG8',\n",
              "  'RPL26L1',\n",
              "  'NRG1',\n",
              "  'HMMR',\n",
              "  'CXCL11',\n",
              "  'WARS',\n",
              "  'TUBB2B',\n",
              "  'C1orf61',\n",
              "  'SH2B3',\n",
              "  'KCNA6',\n",
              "  'DLX4',\n",
              "  'OGN',\n",
              "  'SCNN1B',\n",
              "  'SMAD7',\n",
              "  'SERPINA1',\n",
              "  'UBE2C',\n",
              "  'AGAP11',\n",
              "  'RELA',\n",
              "  'CD274',\n",
              "  'HSPB6',\n",
              "  'CCNB1',\n",
              "  'NT5E',\n",
              "  'MYC',\n",
              "  'FSD1',\n",
              "  'TNFRSF10A',\n",
              "  'CLCA4',\n",
              "  'ATAD3B',\n",
              "  'CLGN',\n",
              "  'CDH3',\n",
              "  'BGN',\n",
              "  'IFNG',\n",
              "  'VRK1',\n",
              "  'TSC22D3',\n",
              "  'GBP6',\n",
              "  'ITGAX',\n",
              "  'BLK',\n",
              "  'SIGLEC5',\n",
              "  'SCML2',\n",
              "  'IL12RB2',\n",
              "  'PMAIP1',\n",
              "  'IRF3',\n",
              "  'HRASLS',\n",
              "  'CHKB',\n",
              "  'KRT6C',\n",
              "  'MCM4',\n",
              "  'SREBF2',\n",
              "  'SLC1A6',\n",
              "  'IFIT1',\n",
              "  'ATOH8',\n",
              "  'PPARA',\n",
              "  'SMAD3',\n",
              "  'SNX5',\n",
              "  'JPH3',\n",
              "  'REG4',\n",
              "  'PTN',\n",
              "  'HSD17B2',\n",
              "  'TCF3',\n",
              "  'LMOD1',\n",
              "  'TEKT2',\n",
              "  'CDKN3',\n",
              "  'KRT6B',\n",
              "  'KLK11',\n",
              "  'NUSAP1',\n",
              "  'ADH6',\n",
              "  'HS3ST6',\n",
              "  'YBX2',\n",
              "  'CHD2',\n",
              "  'EIF2S1',\n",
              "  'RAC2',\n",
              "  'INHBA',\n",
              "  'KRT6A',\n",
              "  'BCR',\n",
              "  'TPX2',\n",
              "  'WFDC8',\n",
              "  'CYP2C18',\n",
              "  'CCND2',\n",
              "  'KIAA0101',\n",
              "  'SERPINB4',\n",
              "  'KIF5A',\n",
              "  'RHBDL3',\n",
              "  'MMP23B',\n",
              "  'HEPHL1',\n",
              "  'TFF1',\n",
              "  'XBP1',\n",
              "  'C19orf45',\n",
              "  'SYNM',\n",
              "  'CHGB',\n",
              "  'CD82',\n",
              "  'MX1',\n",
              "  'H2AFX',\n",
              "  'ZNF626',\n",
              "  'S100A7',\n",
              "  'LAMA3',\n",
              "  'RIMS4',\n",
              "  'TP63',\n",
              "  'CILP',\n",
              "  'RASL10B',\n",
              "  'THBS4',\n",
              "  'SPDEF',\n",
              "  'KRT14',\n",
              "  'SPRR1B',\n",
              "  'MRGPRF',\n",
              "  'SERPINB7',\n",
              "  'CCNG1',\n",
              "  'SYNPO2',\n",
              "  'RAD51AP1',\n",
              "  'PEG10',\n",
              "  'ADH1B',\n",
              "  'TBL1X',\n",
              "  'EFR3B',\n",
              "  'CRYAB',\n",
              "  'ACTA2',\n",
              "  'ADCY5',\n",
              "  'CSF2',\n",
              "  'TTK',\n",
              "  'FAM3D',\n",
              "  'SERPINE1',\n",
              "  'CNTFR',\n",
              "  'FCGR2B',\n",
              "  'ATAD2',\n",
              "  'GABRP',\n",
              "  'GPLD1',\n",
              "  'SFRP2',\n",
              "  'OMD',\n",
              "  'IL12B',\n",
              "  'STMN1',\n",
              "  'AURKB',\n",
              "  'WDR66',\n",
              "  'PRKD1',\n",
              "  'PM20D1',\n",
              "  'CDH11',\n",
              "  'PPM1E',\n",
              "  'CCR7',\n",
              "  'CRTAC1',\n",
              "  'NEK6',\n",
              "  'FYB',\n",
              "  'CDA',\n",
              "  'FNDC1',\n",
              "  'TESC',\n",
              "  'HEY2',\n",
              "  'SYT12',\n",
              "  'MEFV',\n",
              "  'PRAP1',\n",
              "  'CKAP2',\n",
              "  'JUN',\n",
              "  'CXCL10',\n",
              "  'NUDT12',\n",
              "  'PGR',\n",
              "  'SPSB4',\n",
              "  'MAMDC4',\n",
              "  'DSG3',\n",
              "  'CCNE1',\n",
              "  'GBP1',\n",
              "  'SLA',\n",
              "  'AHR',\n",
              "  'SMARCB1',\n",
              "  'PPP1R14C',\n",
              "  'EZH2',\n",
              "  'SIX5',\n",
              "  'CHRDL1',\n",
              "  'NOTUM',\n",
              "  'CDKN2A',\n",
              "  'BRSK2',\n",
              "  'SOX2',\n",
              "  'GFRA3',\n",
              "  'L1CAM',\n",
              "  'CCL19',\n",
              "  'IGF2',\n",
              "  'KRT8',\n",
              "  'CPA4',\n",
              "  'PPIL2',\n",
              "  'CD53',\n",
              "  'MT2A',\n",
              "  'DHRS2',\n",
              "  'SMOC2',\n",
              "  'NFE2L2',\n",
              "  'PVALB',\n",
              "  'ITGA3',\n",
              "  'ERBB3',\n",
              "  'CCL20',\n",
              "  'HDAC1',\n",
              "  'GBP5',\n",
              "  'KRT18',\n",
              "  'LAG3',\n",
              "  'TBX2',\n",
              "  'UPK2',\n",
              "  'UCHL1',\n",
              "  'ECEL1',\n",
              "  'ZNF385B',\n",
              "  'SERPINB3',\n",
              "  'HSPA8',\n",
              "  'FOXM1',\n",
              "  'KRT16',\n",
              "  'PTPN12',\n",
              "  'MAP2K1',\n",
              "  'TATDN1',\n",
              "  'KRT19',\n",
              "  'CKS2',\n",
              "  'GNLY',\n",
              "  'PDCD1LG2',\n",
              "  'OAS2',\n",
              "  'BUB1',\n",
              "  'GZMA',\n",
              "  'SAA2',\n",
              "  'RELN',\n",
              "  'MDP1',\n",
              "  'TRIM24',\n",
              "  'SPRR2A',\n",
              "  'UCA1',\n",
              "  'ITGB2',\n",
              "  'UBE2T',\n",
              "  'HAND2',\n",
              "  'EREG',\n",
              "  'COCH',\n",
              "  'CRMP1',\n",
              "  'PCSK9',\n",
              "  'CD52',\n",
              "  'P2RX1',\n",
              "  'CYFIP2',\n",
              "  'EMX1',\n",
              "  'SNX31',\n",
              "  'PDLIM3',\n",
              "  'MCL1',\n",
              "  'ADAMTS18',\n",
              "  'GSDMC',\n",
              "  'SERPING1',\n",
              "  'CHRDL2',\n",
              "  'STAC2',\n",
              "  'KLK10',\n",
              "  'BAMBI',\n",
              "  'FGFBP1',\n",
              "  'PLAU',\n",
              "  'RND2',\n",
              "  'DGCR5',\n",
              "  'LPP',\n",
              "  'CCDC64',\n",
              "  'GATA5',\n",
              "  'KCTD14',\n",
              "  'KIF1A',\n",
              "  'GFI1',\n",
              "  'RACGAP1',\n",
              "  'NCAM1',\n",
              "  'CCNA2',\n",
              "  'LHX2',\n",
              "  'GRB2',\n",
              "  'CD109',\n",
              "  'CDK6',\n",
              "  'COL2A1',\n",
              "  'RGS20',\n",
              "  'ACTC1',\n",
              "  'PRUNE2',\n",
              "  'POSTN',\n",
              "  'EIF4E',\n",
              "  'KIF23',\n",
              "  'ASPM',\n",
              "  'FHL1',\n",
              "  'XAF1',\n",
              "  'UPK3A',\n",
              "  'C7',\n",
              "  'MFI2',\n",
              "  'DLGAP5',\n",
              "  'SAA1',\n",
              "  'PEG3',\n",
              "  'TMSB15A',\n",
              "  'CTSF',\n",
              "  'MAL',\n",
              "  'SCNN1G',\n",
              "  'GADD45B',\n",
              "  'ATP1A2',\n",
              "  'CYP4F8',\n",
              "  'IL20RB',\n",
              "  'HCFC1R1',\n",
              "  'WBSCR17',\n",
              "  'IL1B',\n",
              "  'GATA3',\n",
              "  'COBL',\n",
              "  'IFNA2',\n",
              "  'DPH2',\n",
              "  'BHMT',\n",
              "  'IL1RAP',\n",
              "  'ZNF615',\n",
              "  'POLE2',\n",
              "  'MAGED4B',\n",
              "  'EXO1',\n",
              "  'SLC2A4',\n",
              "  'CD38',\n",
              "  'RFC4',\n",
              "  'KCNN1',\n",
              "  'IGDCC3',\n",
              "  'PGM5',\n",
              "  'KLRD1',\n",
              "  'PCYT1B',\n",
              "  'PLEKHG4B',\n",
              "  'CNIH2',\n",
              "  'IDO1',\n",
              "  'PSD2',\n",
              "  'IGFL1',\n",
              "  'S100A4',\n",
              "  'HOXC10',\n",
              "  'CCL2',\n",
              "  'SV2A',\n",
              "  'TGFA',\n",
              "  'PTPRZ1',\n",
              "  'PSD',\n",
              "  'HSPB7',\n",
              "  'DUSP15',\n",
              "  'UGT1A1',\n",
              "  'FGF9',\n",
              "  'LGALS7',\n",
              "  'TNFAIP8',\n",
              "  'CD3G',\n",
              "  'DACH1',\n",
              "  'IL11',\n",
              "  'IGFBP3',\n",
              "  'BEX1',\n",
              "  'CHRNB2',\n",
              "  'XPC',\n",
              "  'ZNF697',\n",
              "  'PPP1CA',\n",
              "  'IRF7',\n",
              "  'TNC',\n",
              "  'SP1',\n",
              "  'IGFBP6',\n",
              "  'SLC6A4',\n",
              "  'FKBP2',\n",
              "  'TMEM45A',\n",
              "  'INA',\n",
              "  'STAT3',\n",
              "  'TFAM',\n",
              "  'IL12RB1',\n",
              "  'PIK3R1',\n",
              "  'PTGIS',\n",
              "  'DSC3',\n",
              "  'PI16',\n",
              "  'LGALS4',\n",
              "  'VSNL1',\n",
              "  'PDZK1IP1',\n",
              "  'AREG',\n",
              "  'COMP',\n",
              "  'PPARG',\n",
              "  'MKL1',\n",
              "  'SHANK3',\n",
              "  'AURKA',\n",
              "  'COL14A1',\n",
              "  'SYN2',\n",
              "  'LAMC2',\n",
              "  'BARX2',\n",
              "  'ZNF592',\n",
              "  'KCNH8',\n",
              "  'SLC38A3',\n",
              "  'OLFM4',\n",
              "  'SNAP25',\n",
              "  'SLCO5A1',\n",
              "  'ZEB1',\n",
              "  'NAT8L',\n",
              "  'MYOCD',\n",
              "  'HBEGF',\n",
              "  'ERBB2',\n",
              "  'IL2',\n",
              "  'ANLN',\n",
              "  'MSLN',\n",
              "  'MEOX2',\n",
              "  'SPON1',\n",
              "  'HIC2',\n",
              "  'AHNAK2',\n",
              "  'IGF1',\n",
              "  'PLA2G2D',\n",
              "  'KIR3DL1',\n",
              "  'CXCL9',\n",
              "  'MUC16',\n",
              "  'CX3CL1',\n",
              "  'CDSN',\n",
              "  'LYN',\n",
              "  'LRRC16B',\n",
              "  'IFI44L',\n",
              "  'PKD1L1',\n",
              "  'SLC14A1',\n",
              "  'TM4SF19',\n",
              "  'STK36',\n",
              "  'AFAP1',\n",
              "  'RFC3',\n",
              "  'COLEC12',\n",
              "  'NDC80',\n",
              "  'ISG15',\n",
              "  'RFX7',\n",
              "  'KCTD1',\n",
              "  'ICAM1',\n",
              "  'PPP1R13B',\n",
              "  'PI3',\n",
              "  'CARD16',\n",
              "  'KIR3DL2',\n",
              "  'TGM1',\n",
              "  'HIST1H2BF',\n",
              "  'NME1',\n",
              "  'APLP1',\n",
              "  'PACRG',\n",
              "  'TMEM132A',\n",
              "  'CA9',\n",
              "  'CNTNAP2',\n",
              "  'MYLK',\n",
              "  'GPX2',\n",
              "  'DLL3',\n",
              "  'DHRS9',\n",
              "  'PCDH17',\n",
              "  'PRC1',\n",
              "  'HUNK',\n",
              "  'STAT1',\n",
              "  'MYH11',\n",
              "  'TPM2',\n",
              "  'RNF182',\n",
              "  'NOTCH1',\n",
              "  'BRSK1',\n",
              "  'IFIT3',\n",
              "  'SFRP4',\n",
              "  'TMEM59L',\n",
              "  'SLC30A3',\n",
              "  'CKS1B',\n",
              "  'UPK1A',\n",
              "  'SNAI1',\n",
              "  'KCNH3',\n",
              "  'ADD2',\n",
              "  'SLC15A3',\n",
              "  'LCK',\n",
              "  'CPXM2',\n",
              "  'OGDHL',\n",
              "  'CADM4',\n",
              "  'PTPRE',\n",
              "  'SGCA',\n",
              "  'MBNL2',\n",
              "  'CCL8',\n",
              "  'ITGAL',\n",
              "  'TRIM31',\n",
              "  'NUBP2',\n",
              "  'PCNA',\n",
              "  'GSTM5',\n",
              "  'KLF2',\n",
              "  'PTHLH',\n",
              "  'PLEKHB2',\n",
              "  'FGFR3',\n",
              "  'FGF7',\n",
              "  'KRT5',\n",
              "  'CTSE',\n",
              "  'MX2',\n",
              "  'CNN1',\n",
              "  'ZNF493',\n",
              "  'F3',\n",
              "  'TCEAL2',\n",
              "  'SMARCA4',\n",
              "  'PLA2G5',\n",
              "  'PRIM1',\n",
              "  'KRT7',\n",
              "  'GNG4',\n",
              "  'ZNF764',\n",
              "  'IGF2BP2',\n",
              "  'KCNMA1',\n",
              "  'TIMP3',\n",
              "  'LYPLA1',\n",
              "  'CYP3A5',\n",
              "  'SCN4A',\n",
              "  'CSDC2',\n",
              "  'RRM2',\n",
              "  'COL11A2',\n",
              "  'PLN',\n",
              "  'CD44',\n",
              "  'HS6ST3',\n",
              "  'FOXA1',\n",
              "  'CSRP1',\n",
              "  'MTMR11',\n",
              "  'KRT1',\n",
              "  'IGF2BP1',\n",
              "  'THBS2',\n",
              "  'SERPINB2',\n",
              "  'MFAP4',\n",
              "  'PCDHB9',\n",
              "  'BCL2A1',\n",
              "  'FERMT2',\n",
              "  'COX17',\n",
              "  'NEGR1',\n",
              "  'PLEK',\n",
              "  'ZBED2',\n",
              "  'NUPR1',\n",
              "  'ELN',\n",
              "  'ZNF43',\n",
              "  'E2F2',\n",
              "  'PTPRC',\n",
              "  'ANXA8',\n",
              "  'SCG2',\n",
              "  'HIF1A',\n",
              "  'CXCL5',\n",
              "  'DIRAS1',\n",
              "  'MAD2L1',\n",
              "  'PRELP',\n",
              "  'NKAIN1',\n",
              "  'DLX5',\n",
              "  'PTTG1',\n",
              "  'COL17A1',\n",
              "  'HES6',\n",
              "  'CCNE2',\n",
              "  'GAMT',\n",
              "  'SERPINA3'])"
            ]
          },
          "metadata": {
            "tags": []
          },
          "execution_count": 33
        }
      ]
    },
    {
      "cell_type": "code",
      "metadata": {
        "id": "ku3kfDP5i3LZ",
        "colab": {
          "base_uri": "https://localhost:8080/"
        },
        "outputId": "4d674cd9-91aa-400c-8fa4-4c6a2aa1212b"
      },
      "source": [
        "%%time\n",
        "from scipy.stats import normaltest, ttest_ind_from_stats\n",
        "def compare_two_samples_and_draw_feasible_columns(sample1, sample2, min_pvalue=0.01):\n",
        "    col1 = set(sample1.columns)\n",
        "    col2 = set(sample2.columns)\n",
        "    interset_cols = sorted(col1.intersection(col2))\n",
        "\n",
        "    passed_cols = []\n",
        "    for c in interset_cols:\n",
        "        # For a different distribution, we can reject the null hypothesis since the pvalue is below 1%\n",
        "        # This is a two-sided test for the null hypothesis that two independent samples have identical average (expected) values\n",
        "        s1, s2 = sample1[c], sample2[c]\n",
        "        t, pvalue = ttest_ind_from_stats(np.mean(s1), np.std(s1), len(s1), np.mean(s2), np.std(s2), len(s2))\n",
        "        if pvalue >= min_pvalue:\n",
        "            passed_cols.append(c)\n",
        "    \n",
        "    return passed_cols\n",
        "\n",
        "all_pass_genes_method = {'standard': [], 'power': [], 'rankgauss': []}\n",
        "for m in methods:\n",
        "  tmp_dict = dict()\n",
        "  for o1, o2 in orders:\n",
        "    cols = compare_two_samples_and_draw_feasible_columns(scaled_datasets4[o1][m][all_genes_in_clas], scaled_datasets4[o2][m][all_genes_in_clas])\n",
        "    for c in cols:\n",
        "      if c in tmp_dict.keys():\n",
        "        tmp_dict[c] += 1\n",
        "      else:\n",
        "        tmp_dict[c] = 1\n",
        "  print(tmp_dict)\n",
        "  for c, s in tmp_dict.items():\n",
        "    if s == len(orders):\n",
        "      all_pass_genes_method[m].append(c)\n",
        "for m in methods:\n",
        "  print(m, len(all_pass_genes_method[m]), len(all_genes_in_clas))"
      ],
      "execution_count": null,
      "outputs": [
        {
          "output_type": "stream",
          "text": [
            "{'ABI3BP': 6, 'ACTA2': 6, 'ACTC1': 6, 'ACTG2': 6, 'ADA': 6, 'ADAM33': 6, 'ADAMTS18': 6, 'ADCY5': 6, 'ADD2': 6, 'ADH1B': 6, 'ADH6': 6, 'AFAP1': 6, 'AGAP11': 6, 'AHNAK2': 6, 'AHR': 6, 'ANLN': 6, 'ANXA2': 6, 'ANXA8': 6, 'AOX1': 6, 'APLP1': 6, 'AREG': 6, 'ART5': 6, 'ASPM': 6, 'ATAD2': 6, 'ATAD3B': 6, 'ATOH8': 6, 'ATP1A2': 6, 'AURKA': 6, 'AURKB': 6, 'B3GAT1': 6, 'BAMBI': 6, 'BARX2': 6, 'BCL2A1': 6, 'BCR': 6, 'BEX1': 6, 'BGN': 6, 'BHMT': 6, 'BLK': 6, 'BRSK1': 6, 'BRSK2': 6, 'BTBD16': 6, 'BUB1': 6, 'C19orf45': 6, 'C1orf61': 6, 'C7': 6, 'CA9': 6, 'CADM4': 6, 'CARD16': 6, 'CASQ2': 6, 'CCDC64': 6, 'CCL19': 6, 'CCL2': 6, 'CCL20': 6, 'CCL5': 6, 'CCL8': 6, 'CCNA2': 6, 'CCNB1': 6, 'CCNB2': 6, 'CCND2': 6, 'CCNE1': 6, 'CCNE2': 6, 'CCNG1': 6, 'CCR7': 6, 'CD109': 6, 'CD24': 6, 'CD247': 6, 'CD274': 6, 'CD38': 6, 'CD3D': 6, 'CD3E': 6, 'CD3G': 6, 'CD44': 6, 'CD52': 6, 'CD53': 6, 'CD82': 6, 'CDA': 6, 'CDH11': 6, 'CDH12': 6, 'CDH3': 6, 'CDK6': 6, 'CDKN2A': 6, 'CDKN3': 6, 'CDSN': 6, 'CHD2': 6, 'CHEK1': 6, 'CHGB': 6, 'CHKB': 6, 'CHRDL1': 6, 'CHRDL2': 6, 'CHRNB2': 6, 'CILP': 6, 'CKAP2': 6, 'CKS1B': 6, 'CKS2': 6, 'CLCA4': 6, 'CLGN': 6, 'CNIH2': 6, 'CNN1': 6, 'CNTFR': 6, 'CNTNAP2': 6, 'COBL': 6, 'COCH': 6, 'COL11A2': 6, 'COL14A1': 6, 'COL17A1': 6, 'COL2A1': 6, 'COLEC12': 6, 'COMP': 6, 'COX17': 6, 'CPA4': 6, 'CPXM2': 6, 'CRMP1': 6, 'CRTAC1': 6, 'CRYAB': 6, 'CSDC2': 6, 'CSF2': 6, 'CSRP1': 6, 'CSTA': 6, 'CTSE': 6, 'CTSF': 6, 'CX3CL1': 6, 'CXCL10': 6, 'CXCL11': 6, 'CXCL5': 6, 'CXCL9': 6, 'CYFIP2': 6, 'CYP2C18': 6, 'CYP2J2': 6, 'CYP3A5': 6, 'CYP4F8': 6, 'DACH1': 6, 'DACT3': 6, 'DCAKD': 6, 'DES': 6, 'DGCR5': 6, 'DHRS2': 6, 'DHRS9': 6, 'DIRAS1': 6, 'DLGAP5': 6, 'DLL3': 6, 'DLX4': 6, 'DLX5': 6, 'DPF1': 6, 'DPH2': 6, 'DPT': 6, 'DSC3': 6, 'DSG3': 6, 'DUSP15': 6, 'E2F2': 6, 'ECEL1': 6, 'EFR3B': 6, 'EIF2S1': 6, 'EIF4E': 6, 'ELN': 6, 'EMX1': 6, 'ENHO': 6, 'ENO2': 6, 'ERBB2': 6, 'ERBB3': 6, 'EREG': 6, 'ERN2': 6, 'EXO1': 6, 'EZH2': 6, 'F3': 6, 'FABP4': 6, 'FAM3D': 6, 'FCGR2B': 6, 'FEN1': 6, 'FERMT2': 6, 'FGF7': 6, 'FGF9': 6, 'FGFBP1': 6, 'FGFR3': 6, 'FHL1': 6, 'FKBP2': 6, 'FMO9P': 6, 'FNDC1': 6, 'FOXA1': 6, 'FOXM1': 6, 'FSD1': 6, 'FYB': 6, 'GABBR2': 6, 'GABRP': 6, 'GADD45B': 6, 'GAMT': 6, 'GATA3': 6, 'GATA5': 6, 'GBP1': 6, 'GBP5': 6, 'GBP6': 6, 'GFI1': 6, 'GFRA3': 6, 'GNG4': 6, 'GNLY': 6, 'GPLD1': 6, 'GPX2': 6, 'GPX3': 6, 'GRB2': 6, 'GSDMC': 6, 'GSTM5': 6, 'GZMA': 6, 'H2AFX': 6, 'HAND2': 6, 'HBEGF': 6, 'HCFC1R1': 6, 'HDAC1': 6, 'HDC': 6, 'HEPHL1': 6, 'HES6': 6, 'HEY2': 6, 'HIC2': 6, 'HIF1A': 6, 'HIST1H2BF': 6, 'HMGA2': 6, 'HMMR': 6, 'HOXC10': 6, 'HRASLS': 6, 'HS3ST6': 6, 'HS6ST3': 6, 'HSD17B2': 6, 'HSPA8': 6, 'HSPB6': 6, 'HSPB7': 6, 'HTT': 6, 'HUNK': 6, 'ICAM1': 6, 'IDO1': 6, 'IFI44L': 6, 'IFIT1': 6, 'IFIT3': 6, 'IFNA2': 6, 'IFNG': 6, 'IGDCC3': 6, 'IGF1': 6, 'IGF2': 6, 'IGF2BP1': 6, 'IGF2BP2': 6, 'IGFBP3': 6, 'IGFBP5': 6, 'IGFBP6': 6, 'IGFL1': 6, 'IL11': 6, 'IL12B': 6, 'IL12RB1': 6, 'IL12RB2': 6, 'IL1B': 6, 'IL1RAP': 6, 'IL2': 6, 'IL20RB': 6, 'INA': 6, 'INHBA': 6, 'IRF3': 6, 'IRF7': 6, 'ISG15': 6, 'ITGA3': 6, 'ITGAL': 6, 'ITGAX': 6, 'ITGB2': 6, 'JPH3': 6, 'JUN': 6, 'KCNA6': 6, 'KCNH2': 6, 'KCNH3': 6, 'KCNH8': 6, 'KCNMA1': 6, 'KCNN1': 6, 'KCTD1': 6, 'KCTD14': 6, 'KIAA0101': 6, 'KIF1A': 6, 'KIF23': 6, 'KIF5A': 6, 'KIR3DL1': 6, 'KIR3DL2': 6, 'KLF2': 6, 'KLK10': 6, 'KLK11': 6, 'KLRD1': 6, 'KRT1': 6, 'KRT14': 6, 'KRT16': 6, 'KRT18': 6, 'KRT19': 6, 'KRT20': 6, 'KRT5': 6, 'KRT6A': 6, 'KRT6B': 6, 'KRT6C': 6, 'KRT7': 6, 'KRT8': 6, 'KRT81': 6, 'L1CAM': 6, 'LAG3': 6, 'LAMA3': 6, 'LAMC2': 6, 'LCK': 6, 'LGALS4': 6, 'LGALS7': 6, 'LHX2': 6, 'LMO3': 6, 'LMOD1': 6, 'LPP': 6, 'LRRC16B': 6, 'LTK': 6, 'LYN': 6, 'LYPLA1': 6, 'MAD2L1': 6, 'MAGED4B': 6, 'MAL': 6, 'MAMDC4': 6, 'MAP2K1': 6, 'MBNL2': 6, 'MCL1': 6, 'MCM4': 6, 'MCM7': 6, 'MDP1': 6, 'MEFV': 6, 'MEOX2': 6, 'MFAP4': 6, 'MFI2': 6, 'MKL1': 6, 'MMP23B': 6, 'MRGPRF': 6, 'MS4A1': 6, 'MSI1': 6, 'MSLN': 6, 'MT2A': 6, 'MTMR11': 6, 'MUC16': 6, 'MUC2': 6, 'MX1': 6, 'MX2': 6, 'MYC': 6, 'MYCN': 6, 'MYH11': 6, 'MYLK': 6, 'MYOCD': 6, 'NAT8L': 6, 'NCAM1': 6, 'NCOR1': 6, 'NDC80': 6, 'NEGR1': 6, 'NEK6': 6, 'NFE2L2': 6, 'NFKB1': 6, 'NKAIN1': 6, 'NME1': 6, 'NOD2': 6, 'NOTCH1': 6, 'NOTUM': 6, 'NRCAM': 6, 'NRG1': 6, 'NT5E': 6, 'NUBP2': 6, 'NUDT12': 6, 'NUPR1': 6, 'NUSAP1': 6, 'OAS2': 6, 'OGDHL': 6, 'OGN': 6, 'OLFM4': 6, 'OMD': 6, 'P2RX1': 6, 'PACRG': 6, 'PCDH17': 6, 'PCDHB9': 6, 'PCNA': 6, 'PCP4': 6, 'PCSK9': 6, 'PCYT1B': 6, 'PDCD1LG2': 6, 'PDGFRA': 6, 'PDLIM3': 6, 'PDZK1IP1': 6, 'PDZRN4': 6, 'PEG10': 6, 'PEG3': 6, 'PGM5': 6, 'PGR': 6, 'PI16': 6, 'PI3': 6, 'PIAS4': 6, 'PIK3R1': 6, 'PKD1L1': 6, 'PLA2G2D': 6, 'PLA2G5': 6, 'PLAU': 6, 'PLEK': 6, 'PLEKHB2': 6, 'PLEKHG4B': 6, 'PLN': 6, 'PM20D1': 6, 'PM20D2': 6, 'PMAIP1': 6, 'POLE2': 6, 'POSTN': 6, 'POU2F2': 6, 'PPARA': 6, 'PPARG': 6, 'PPIL2': 6, 'PPM1E': 6, 'PPP1CA': 6, 'PPP1R13B': 6, 'PPP1R14C': 6, 'PRAP1': 6, 'PRC1': 6, 'PRELP': 6, 'PRIM1': 6, 'PRKD1': 6, 'PRNP': 6, 'PRUNE2': 6, 'PSD': 6, 'PSD2': 6, 'PTGIS': 6, 'PTHLH': 6, 'PTN': 6, 'PTPN12': 6, 'PTPRC': 6, 'PTPRE': 6, 'PTPRZ1': 6, 'PTTG1': 6, 'PVALB': 6, 'RAC2': 6, 'RACGAP1': 6, 'RAD51AP1': 6, 'RASL10B': 6, 'RB1': 6, 'REG4': 6, 'RELA': 6, 'RELN': 6, 'RFC3': 6, 'RFC4': 6, 'RFX7': 6, 'RGS20': 6, 'RHBDL3': 6, 'RHCG': 6, 'RIMS4': 6, 'RND2': 6, 'RNF182': 6, 'RPAP1': 6, 'RPL26L1': 6, 'RPL9': 6, 'RRM2': 6, 'S100A4': 6, 'S100A7': 6, 'S100A8': 6, 'SAA1': 6, 'SAA2': 6, 'SCG2': 6, 'SCML2': 6, 'SCN4A': 6, 'SCNN1B': 6, 'SCNN1G': 6, 'SDK2': 6, 'SERPINA1': 6, 'SERPINA3': 6, 'SERPINB13': 6, 'SERPINB2': 6, 'SERPINB3': 6, 'SERPINB4': 6, 'SERPINB7': 6, 'SERPINE1': 6, 'SERPING1': 6, 'SFN': 6, 'SFRP2': 6, 'SFRP4': 6, 'SGCA': 6, 'SGCD': 6, 'SH2B3': 6, 'SHANK3': 6, 'SIGLEC5': 6, 'SIX5': 6, 'SLA': 6, 'SLC14A1': 6, 'SLC15A3': 6, 'SLC1A6': 6, 'SLC2A4': 6, 'SLC30A2': 6, 'SLC30A3': 6, 'SLC38A3': 6, 'SLC6A4': 6, 'SLCO5A1': 6, 'SMAD3': 6, 'SMAD7': 6, 'SMARCA4': 6, 'SMARCB1': 6, 'SMC2': 6, 'SMOC2': 6, 'SNAI1': 6, 'SNAP25': 6, 'SNAP91': 6, 'SNX31': 6, 'SNX5': 6, 'SORBS1': 6, 'SOX2': 6, 'SP1': 6, 'SPDEF': 6, 'SPINK1': 6, 'SPON1': 6, 'SPRR1B': 6, 'SPRR2A': 6, 'SPRR2D': 6, 'SPSB4': 6, 'SREBF2': 6, 'SRF': 6, 'STAC2': 6, 'STAT1': 6, 'STAT3': 6, 'STK36': 6, 'STMN1': 6, 'SV2A': 6, 'SYN2': 6, 'SYNM': 6, 'SYNPO2': 6, 'SYP': 6, 'SYT12': 6, 'TATDN1': 6, 'TBL1X': 6, 'TBX2': 6, 'TCEAL2': 6, 'TCF3': 6, 'TEKT2': 6, 'TESC': 6, 'TFAM': 6, 'TFDP1': 6, 'TFF1': 6, 'TGFA': 6, 'TGFBI': 6, 'TGM1': 6, 'THBS2': 6, 'THBS4': 6, 'TIMP3': 6, 'TM4SF19': 6, 'TMEM132A': 6, 'TMEM45A': 6, 'TMEM59L': 6, 'TMEM63A': 6, 'TMSB15A': 6, 'TNC': 6, 'TNFAIP8': 6, 'TNFRSF10A': 6, 'TNIP3': 6, 'TP53': 6, 'TP63': 6, 'TPM2': 6, 'TPX2': 6, 'TRIM24': 6, 'TRIM31': 6, 'TSC22D3': 6, 'TTK': 6, 'TUBB2B': 6, 'TWIST1': 6, 'UBE2C': 6, 'UBE2T': 6, 'UCA1': 6, 'UCHL1': 6, 'UGT1A1': 6, 'UHRF1': 6, 'UNC119B': 6, 'UPK1A': 6, 'UPK2': 6, 'UPK3A': 6, 'VRK1': 6, 'VSIG8': 6, 'VSNL1': 6, 'WARS': 6, 'WBSCR17': 6, 'WDR66': 6, 'WFDC8': 6, 'XAF1': 6, 'XBP1': 6, 'XPC': 6, 'YBX2': 6, 'ZBED2': 6, 'ZCCHC12': 6, 'ZEB1': 6, 'ZEB2': 6, 'ZMAT3': 6, 'ZNF385B': 6, 'ZNF43': 6, 'ZNF493': 6, 'ZNF592': 6, 'ZNF615': 6, 'ZNF626': 6, 'ZNF697': 6, 'ZNF764': 6}\n",
            "{'ABI3BP': 6, 'ACTA2': 6, 'ACTC1': 6, 'ACTG2': 6, 'ADA': 6, 'ADAM33': 6, 'ADAMTS18': 6, 'ADCY5': 6, 'ADD2': 6, 'ADH1B': 6, 'ADH6': 6, 'AFAP1': 6, 'AGAP11': 6, 'AHNAK2': 6, 'AHR': 6, 'ANLN': 6, 'ANXA2': 6, 'ANXA8': 6, 'AOX1': 6, 'APLP1': 6, 'AREG': 6, 'ART5': 6, 'ASPM': 6, 'ATAD2': 6, 'ATAD3B': 6, 'ATOH8': 6, 'ATP1A2': 6, 'AURKA': 6, 'AURKB': 6, 'B3GAT1': 6, 'BAMBI': 6, 'BARX2': 6, 'BCL2A1': 6, 'BCR': 6, 'BEX1': 6, 'BGN': 6, 'BHMT': 6, 'BLK': 6, 'BRSK1': 6, 'BRSK2': 6, 'BTBD16': 6, 'BUB1': 6, 'C19orf45': 6, 'C1orf61': 6, 'C7': 6, 'CA9': 6, 'CADM4': 6, 'CARD16': 6, 'CASQ2': 6, 'CCDC64': 6, 'CCL19': 6, 'CCL2': 6, 'CCL20': 6, 'CCL5': 6, 'CCL8': 6, 'CCNA2': 6, 'CCNB1': 6, 'CCNB2': 6, 'CCND2': 6, 'CCNE1': 6, 'CCNE2': 6, 'CCNG1': 6, 'CCR7': 6, 'CD109': 6, 'CD24': 6, 'CD247': 6, 'CD274': 6, 'CD38': 6, 'CD3D': 6, 'CD3E': 6, 'CD3G': 6, 'CD44': 6, 'CD52': 6, 'CD53': 6, 'CD82': 6, 'CDA': 6, 'CDH11': 6, 'CDH12': 6, 'CDH3': 6, 'CDK6': 6, 'CDKN2A': 6, 'CDKN3': 6, 'CDSN': 6, 'CHD2': 6, 'CHEK1': 6, 'CHGB': 6, 'CHKB': 6, 'CHRDL1': 6, 'CHRDL2': 6, 'CHRNB2': 6, 'CILP': 6, 'CKAP2': 6, 'CKS1B': 6, 'CKS2': 6, 'CLCA4': 6, 'CLGN': 6, 'CNIH2': 6, 'CNN1': 6, 'CNTFR': 6, 'CNTNAP2': 6, 'COBL': 6, 'COCH': 6, 'COL11A2': 6, 'COL14A1': 6, 'COL17A1': 6, 'COL2A1': 6, 'COLEC12': 6, 'COMP': 6, 'COX17': 6, 'CPA4': 6, 'CPXM2': 6, 'CRMP1': 6, 'CRTAC1': 6, 'CRYAB': 6, 'CSDC2': 6, 'CSF2': 6, 'CSRP1': 6, 'CSTA': 6, 'CTSE': 6, 'CTSF': 6, 'CX3CL1': 6, 'CXCL10': 6, 'CXCL11': 6, 'CXCL5': 6, 'CXCL9': 6, 'CYFIP2': 6, 'CYP2C18': 6, 'CYP2J2': 6, 'CYP3A5': 6, 'CYP4F8': 6, 'DACH1': 6, 'DACT3': 6, 'DCAKD': 6, 'DES': 6, 'DGCR5': 6, 'DHRS2': 6, 'DHRS9': 6, 'DIRAS1': 6, 'DLGAP5': 6, 'DLL3': 6, 'DLX4': 6, 'DLX5': 6, 'DPF1': 6, 'DPH2': 6, 'DPT': 6, 'DSC3': 6, 'DSG3': 6, 'DUSP15': 6, 'E2F2': 6, 'ECEL1': 6, 'EFR3B': 6, 'EIF2S1': 6, 'EIF4E': 6, 'ELN': 6, 'EMX1': 6, 'ENHO': 6, 'ENO2': 6, 'ERBB2': 6, 'ERBB3': 6, 'EREG': 6, 'ERN2': 6, 'EXO1': 6, 'EZH2': 6, 'F3': 6, 'FABP4': 6, 'FAM3D': 6, 'FCGR2B': 6, 'FEN1': 6, 'FERMT2': 6, 'FGF7': 6, 'FGF9': 6, 'FGFBP1': 6, 'FGFR3': 6, 'FHL1': 6, 'FKBP2': 6, 'FMO9P': 6, 'FNDC1': 6, 'FOXA1': 6, 'FOXM1': 6, 'FSD1': 6, 'FYB': 6, 'GABBR2': 6, 'GABRP': 6, 'GADD45B': 6, 'GAMT': 6, 'GATA3': 6, 'GATA5': 6, 'GBP1': 6, 'GBP5': 6, 'GBP6': 6, 'GFI1': 6, 'GFRA3': 6, 'GNG4': 6, 'GNLY': 6, 'GPLD1': 6, 'GPX2': 6, 'GPX3': 6, 'GRB2': 6, 'GSDMC': 6, 'GSTM5': 6, 'GZMA': 6, 'H2AFX': 6, 'HAND2': 6, 'HBEGF': 6, 'HCFC1R1': 6, 'HDAC1': 6, 'HDC': 6, 'HEPHL1': 6, 'HES6': 6, 'HEY2': 6, 'HIC2': 6, 'HIF1A': 6, 'HIST1H2BF': 6, 'HMGA2': 6, 'HMMR': 6, 'HOXC10': 6, 'HRASLS': 6, 'HS3ST6': 6, 'HS6ST3': 6, 'HSD17B2': 6, 'HSPA8': 6, 'HSPB6': 6, 'HSPB7': 6, 'HTT': 6, 'HUNK': 6, 'ICAM1': 6, 'IDO1': 6, 'IFI44L': 6, 'IFIT1': 6, 'IFIT3': 6, 'IFNA2': 6, 'IFNG': 6, 'IGDCC3': 6, 'IGF1': 6, 'IGF2': 6, 'IGF2BP1': 6, 'IGF2BP2': 6, 'IGFBP3': 6, 'IGFBP5': 6, 'IGFBP6': 6, 'IGFL1': 6, 'IL11': 6, 'IL12B': 6, 'IL12RB1': 6, 'IL12RB2': 6, 'IL1B': 6, 'IL1RAP': 6, 'IL2': 6, 'IL20RB': 6, 'INA': 6, 'INHBA': 6, 'IRF3': 6, 'IRF7': 6, 'ISG15': 6, 'ITGA3': 6, 'ITGAL': 6, 'ITGAX': 6, 'ITGB2': 6, 'JPH3': 6, 'JUN': 6, 'KCNA6': 6, 'KCNH2': 6, 'KCNH3': 6, 'KCNH8': 6, 'KCNMA1': 6, 'KCNN1': 6, 'KCTD1': 6, 'KCTD14': 6, 'KIAA0101': 6, 'KIF1A': 6, 'KIF23': 6, 'KIF5A': 6, 'KIR3DL1': 6, 'KIR3DL2': 6, 'KLF2': 6, 'KLK10': 6, 'KLK11': 6, 'KLRD1': 6, 'KRT1': 6, 'KRT14': 6, 'KRT16': 6, 'KRT18': 6, 'KRT19': 6, 'KRT20': 6, 'KRT5': 6, 'KRT6A': 6, 'KRT6B': 6, 'KRT6C': 6, 'KRT7': 6, 'KRT8': 6, 'KRT81': 6, 'L1CAM': 6, 'LAG3': 6, 'LAMA3': 6, 'LAMC2': 6, 'LCK': 6, 'LGALS4': 6, 'LGALS7': 6, 'LHX2': 6, 'LMO3': 6, 'LMOD1': 6, 'LPP': 6, 'LRRC16B': 6, 'LTK': 6, 'LYN': 6, 'LYPLA1': 6, 'MAD2L1': 6, 'MAGED4B': 6, 'MAL': 6, 'MAMDC4': 6, 'MAP2K1': 6, 'MBNL2': 6, 'MCL1': 6, 'MCM4': 6, 'MCM7': 6, 'MDP1': 6, 'MEFV': 6, 'MEOX2': 6, 'MFAP4': 6, 'MFI2': 6, 'MKL1': 6, 'MMP23B': 6, 'MRGPRF': 6, 'MS4A1': 6, 'MSI1': 6, 'MSLN': 6, 'MT2A': 6, 'MTMR11': 6, 'MUC16': 6, 'MUC2': 6, 'MX1': 6, 'MX2': 6, 'MYC': 6, 'MYCN': 6, 'MYH11': 6, 'MYLK': 6, 'MYOCD': 6, 'NAT8L': 6, 'NCAM1': 6, 'NCOR1': 6, 'NDC80': 6, 'NEGR1': 6, 'NEK6': 6, 'NFE2L2': 6, 'NFKB1': 6, 'NKAIN1': 6, 'NME1': 6, 'NOD2': 6, 'NOTCH1': 6, 'NOTUM': 6, 'NRCAM': 6, 'NRG1': 6, 'NT5E': 6, 'NUBP2': 6, 'NUDT12': 6, 'NUPR1': 6, 'NUSAP1': 6, 'OAS2': 6, 'OGDHL': 6, 'OGN': 6, 'OLFM4': 6, 'OMD': 6, 'P2RX1': 6, 'PACRG': 6, 'PCDH17': 6, 'PCDHB9': 6, 'PCNA': 6, 'PCP4': 6, 'PCSK9': 6, 'PCYT1B': 6, 'PDCD1LG2': 6, 'PDGFRA': 6, 'PDLIM3': 6, 'PDZK1IP1': 6, 'PDZRN4': 6, 'PEG10': 6, 'PEG3': 6, 'PGM5': 6, 'PGR': 6, 'PI16': 6, 'PI3': 6, 'PIAS4': 6, 'PIK3R1': 6, 'PKD1L1': 6, 'PLA2G2D': 6, 'PLA2G5': 6, 'PLAU': 6, 'PLEK': 6, 'PLEKHB2': 6, 'PLEKHG4B': 6, 'PLN': 6, 'PM20D1': 6, 'PM20D2': 6, 'PMAIP1': 6, 'POLE2': 6, 'POSTN': 6, 'POU2F2': 6, 'PPARA': 6, 'PPARG': 6, 'PPIL2': 6, 'PPM1E': 6, 'PPP1CA': 6, 'PPP1R13B': 6, 'PPP1R14C': 6, 'PRAP1': 6, 'PRC1': 6, 'PRELP': 6, 'PRIM1': 6, 'PRKD1': 6, 'PRNP': 6, 'PRUNE2': 6, 'PSD': 6, 'PSD2': 6, 'PTGIS': 6, 'PTHLH': 6, 'PTN': 6, 'PTPN12': 6, 'PTPRC': 6, 'PTPRE': 6, 'PTPRZ1': 6, 'PTTG1': 6, 'PVALB': 6, 'RAC2': 6, 'RACGAP1': 6, 'RAD51AP1': 6, 'RASL10B': 6, 'RB1': 6, 'REG4': 6, 'RELA': 6, 'RELN': 6, 'RFC3': 6, 'RFC4': 6, 'RFX7': 6, 'RGS20': 6, 'RHBDL3': 6, 'RHCG': 6, 'RIMS4': 6, 'RND2': 6, 'RNF182': 6, 'RPAP1': 6, 'RPL26L1': 6, 'RPL9': 6, 'RRM2': 6, 'S100A4': 6, 'S100A7': 6, 'S100A8': 6, 'SAA1': 6, 'SAA2': 6, 'SCG2': 6, 'SCML2': 6, 'SCN4A': 6, 'SCNN1B': 6, 'SCNN1G': 6, 'SDK2': 6, 'SERPINA1': 6, 'SERPINA3': 6, 'SERPINB13': 6, 'SERPINB2': 6, 'SERPINB3': 6, 'SERPINB4': 6, 'SERPINB7': 6, 'SERPINE1': 6, 'SERPING1': 6, 'SFN': 6, 'SFRP2': 6, 'SFRP4': 6, 'SGCA': 6, 'SGCD': 6, 'SH2B3': 6, 'SHANK3': 6, 'SIGLEC5': 6, 'SIX5': 6, 'SLA': 6, 'SLC14A1': 6, 'SLC15A3': 6, 'SLC1A6': 6, 'SLC2A4': 6, 'SLC30A2': 6, 'SLC30A3': 6, 'SLC38A3': 6, 'SLC6A4': 6, 'SLCO5A1': 6, 'SMAD3': 6, 'SMAD7': 6, 'SMARCA4': 6, 'SMARCB1': 6, 'SMC2': 6, 'SMOC2': 6, 'SNAI1': 6, 'SNAP25': 6, 'SNAP91': 6, 'SNX31': 6, 'SNX5': 6, 'SORBS1': 6, 'SOX2': 6, 'SP1': 6, 'SPDEF': 6, 'SPINK1': 6, 'SPON1': 6, 'SPRR1B': 6, 'SPRR2A': 6, 'SPRR2D': 6, 'SPSB4': 6, 'SREBF2': 6, 'SRF': 6, 'STAC2': 6, 'STAT1': 6, 'STAT3': 6, 'STK36': 6, 'STMN1': 6, 'SV2A': 6, 'SYN2': 6, 'SYNM': 6, 'SYNPO2': 6, 'SYP': 6, 'SYT12': 6, 'TATDN1': 6, 'TBL1X': 6, 'TBX2': 6, 'TCEAL2': 6, 'TCF3': 6, 'TEKT2': 6, 'TESC': 6, 'TFAM': 6, 'TFDP1': 6, 'TFF1': 6, 'TGFA': 6, 'TGFBI': 6, 'TGM1': 6, 'THBS2': 6, 'THBS4': 6, 'TIMP3': 6, 'TM4SF19': 6, 'TMEM132A': 6, 'TMEM45A': 6, 'TMEM59L': 6, 'TMEM63A': 6, 'TMSB15A': 6, 'TNC': 6, 'TNFAIP8': 6, 'TNFRSF10A': 6, 'TNIP3': 6, 'TP53': 6, 'TP63': 6, 'TPM2': 6, 'TPX2': 6, 'TRIM24': 6, 'TRIM31': 6, 'TSC22D3': 6, 'TTK': 6, 'TUBB2B': 6, 'TWIST1': 6, 'UBE2C': 6, 'UBE2T': 6, 'UCA1': 6, 'UCHL1': 6, 'UGT1A1': 6, 'UHRF1': 6, 'UNC119B': 6, 'UPK1A': 6, 'UPK2': 6, 'UPK3A': 6, 'VRK1': 6, 'VSIG8': 6, 'VSNL1': 6, 'WARS': 6, 'WBSCR17': 6, 'WDR66': 6, 'WFDC8': 6, 'XAF1': 6, 'XBP1': 6, 'XPC': 6, 'YBX2': 6, 'ZBED2': 6, 'ZCCHC12': 6, 'ZEB1': 6, 'ZEB2': 6, 'ZMAT3': 6, 'ZNF385B': 6, 'ZNF43': 6, 'ZNF493': 6, 'ZNF592': 6, 'ZNF615': 6, 'ZNF626': 6, 'ZNF697': 6, 'ZNF764': 6}\n",
            "{'ABI3BP': 6, 'ACTA2': 6, 'ACTC1': 6, 'ACTG2': 6, 'ADA': 6, 'ADAM33': 6, 'ADAMTS18': 6, 'ADCY5': 6, 'ADD2': 6, 'ADH1B': 6, 'ADH6': 6, 'AFAP1': 6, 'AGAP11': 6, 'AHNAK2': 6, 'AHR': 6, 'ANLN': 6, 'ANXA2': 6, 'ANXA8': 6, 'AOX1': 6, 'APLP1': 6, 'AREG': 6, 'ART5': 6, 'ASPM': 6, 'ATAD2': 6, 'ATAD3B': 6, 'ATOH8': 6, 'ATP1A2': 6, 'AURKA': 6, 'AURKB': 6, 'B3GAT1': 6, 'BAMBI': 6, 'BARX2': 6, 'BCL2A1': 6, 'BCR': 6, 'BEX1': 6, 'BGN': 6, 'BHMT': 6, 'BLK': 6, 'BRSK1': 6, 'BRSK2': 6, 'BTBD16': 6, 'BUB1': 6, 'C19orf45': 6, 'C1orf61': 6, 'C7': 6, 'CA9': 6, 'CADM4': 6, 'CARD16': 6, 'CASQ2': 6, 'CCDC64': 6, 'CCL19': 6, 'CCL2': 6, 'CCL20': 6, 'CCL5': 6, 'CCL8': 6, 'CCNA2': 6, 'CCNB1': 6, 'CCNB2': 6, 'CCND2': 6, 'CCNE1': 6, 'CCNE2': 6, 'CCNG1': 6, 'CCR7': 6, 'CD109': 6, 'CD24': 6, 'CD247': 6, 'CD274': 6, 'CD38': 6, 'CD3D': 6, 'CD3E': 6, 'CD3G': 6, 'CD44': 6, 'CD52': 6, 'CD53': 6, 'CD82': 6, 'CDA': 6, 'CDH11': 6, 'CDH12': 6, 'CDH3': 6, 'CDK6': 6, 'CDKN2A': 6, 'CDKN3': 6, 'CDSN': 6, 'CHD2': 6, 'CHEK1': 6, 'CHGB': 6, 'CHKB': 6, 'CHRDL1': 6, 'CHRDL2': 6, 'CHRNB2': 6, 'CILP': 6, 'CKAP2': 6, 'CKS1B': 6, 'CKS2': 6, 'CLCA4': 6, 'CLGN': 6, 'CNIH2': 6, 'CNN1': 6, 'CNTFR': 6, 'CNTNAP2': 6, 'COBL': 6, 'COCH': 6, 'COL11A2': 6, 'COL14A1': 6, 'COL17A1': 6, 'COL2A1': 6, 'COLEC12': 6, 'COMP': 6, 'COX17': 6, 'CPA4': 6, 'CPXM2': 6, 'CRMP1': 6, 'CRTAC1': 6, 'CRYAB': 6, 'CSDC2': 6, 'CSF2': 6, 'CSRP1': 6, 'CSTA': 6, 'CTSE': 6, 'CTSF': 6, 'CX3CL1': 6, 'CXCL10': 6, 'CXCL11': 6, 'CXCL5': 6, 'CXCL9': 6, 'CYFIP2': 6, 'CYP2C18': 6, 'CYP2J2': 6, 'CYP3A5': 6, 'CYP4F8': 6, 'DACH1': 6, 'DACT3': 6, 'DCAKD': 6, 'DES': 6, 'DGCR5': 6, 'DHRS2': 6, 'DHRS9': 6, 'DIRAS1': 6, 'DLGAP5': 6, 'DLL3': 6, 'DLX4': 6, 'DLX5': 6, 'DPF1': 6, 'DPH2': 6, 'DPT': 6, 'DSC3': 6, 'DSG3': 6, 'DUSP15': 6, 'E2F2': 6, 'ECEL1': 6, 'EFR3B': 6, 'EIF2S1': 6, 'EIF4E': 6, 'ELN': 6, 'EMX1': 6, 'ENHO': 6, 'ENO2': 6, 'ERBB2': 6, 'ERBB3': 6, 'EREG': 6, 'ERN2': 6, 'EXO1': 6, 'EZH2': 6, 'F3': 6, 'FABP4': 6, 'FAM3D': 6, 'FCGR2B': 6, 'FEN1': 6, 'FERMT2': 6, 'FGF7': 6, 'FGF9': 6, 'FGFBP1': 6, 'FGFR3': 6, 'FHL1': 6, 'FKBP2': 6, 'FMO9P': 6, 'FNDC1': 6, 'FOXA1': 6, 'FOXM1': 6, 'FSD1': 6, 'FYB': 6, 'GABBR2': 6, 'GABRP': 6, 'GADD45B': 6, 'GAMT': 6, 'GATA3': 6, 'GATA5': 6, 'GBP1': 6, 'GBP5': 6, 'GBP6': 6, 'GFI1': 6, 'GFRA3': 6, 'GNG4': 6, 'GNLY': 6, 'GPLD1': 6, 'GPX2': 6, 'GPX3': 6, 'GRB2': 6, 'GSDMC': 6, 'GSTM5': 6, 'GZMA': 6, 'H2AFX': 6, 'HAND2': 6, 'HBEGF': 6, 'HCFC1R1': 6, 'HDAC1': 6, 'HDC': 6, 'HEPHL1': 6, 'HES6': 6, 'HEY2': 6, 'HIC2': 6, 'HIF1A': 6, 'HIST1H2BF': 6, 'HMGA2': 6, 'HMMR': 6, 'HOXC10': 6, 'HRASLS': 6, 'HS3ST6': 6, 'HS6ST3': 6, 'HSD17B2': 6, 'HSPA8': 6, 'HSPB6': 6, 'HSPB7': 6, 'HTT': 6, 'HUNK': 6, 'ICAM1': 6, 'IDO1': 6, 'IFI44L': 6, 'IFIT1': 6, 'IFIT3': 6, 'IFNA2': 6, 'IFNG': 6, 'IGDCC3': 6, 'IGF1': 6, 'IGF2': 6, 'IGF2BP1': 6, 'IGF2BP2': 6, 'IGFBP3': 6, 'IGFBP5': 6, 'IGFBP6': 6, 'IGFL1': 6, 'IL11': 6, 'IL12B': 6, 'IL12RB1': 6, 'IL12RB2': 6, 'IL1B': 6, 'IL1RAP': 6, 'IL2': 6, 'IL20RB': 6, 'INA': 6, 'INHBA': 6, 'IRF3': 6, 'IRF7': 6, 'ISG15': 6, 'ITGA3': 6, 'ITGAL': 6, 'ITGAX': 6, 'ITGB2': 6, 'JPH3': 6, 'JUN': 6, 'KCNA6': 6, 'KCNH2': 6, 'KCNH3': 6, 'KCNH8': 6, 'KCNMA1': 6, 'KCNN1': 6, 'KCTD1': 6, 'KCTD14': 6, 'KIAA0101': 6, 'KIF1A': 6, 'KIF23': 6, 'KIF5A': 6, 'KIR3DL1': 6, 'KIR3DL2': 6, 'KLF2': 6, 'KLK10': 6, 'KLK11': 6, 'KLRD1': 6, 'KRT1': 6, 'KRT14': 6, 'KRT16': 6, 'KRT18': 6, 'KRT19': 6, 'KRT20': 6, 'KRT5': 6, 'KRT6A': 6, 'KRT6B': 6, 'KRT6C': 6, 'KRT7': 6, 'KRT8': 6, 'KRT81': 6, 'L1CAM': 6, 'LAG3': 6, 'LAMA3': 6, 'LAMC2': 6, 'LCK': 6, 'LGALS4': 6, 'LGALS7': 6, 'LHX2': 6, 'LMO3': 6, 'LMOD1': 6, 'LPP': 6, 'LRRC16B': 6, 'LTK': 6, 'LYN': 6, 'LYPLA1': 6, 'MAD2L1': 6, 'MAGED4B': 6, 'MAL': 6, 'MAMDC4': 6, 'MAP2K1': 6, 'MBNL2': 6, 'MCL1': 6, 'MCM4': 6, 'MCM7': 6, 'MDP1': 6, 'MEFV': 6, 'MEOX2': 6, 'MFAP4': 6, 'MFI2': 6, 'MKL1': 6, 'MMP23B': 6, 'MRGPRF': 6, 'MS4A1': 6, 'MSI1': 6, 'MSLN': 6, 'MT2A': 6, 'MTMR11': 6, 'MUC16': 6, 'MUC2': 6, 'MX1': 6, 'MX2': 6, 'MYC': 6, 'MYCN': 6, 'MYH11': 6, 'MYLK': 6, 'MYOCD': 6, 'NAT8L': 6, 'NCAM1': 6, 'NCOR1': 6, 'NDC80': 6, 'NEGR1': 6, 'NEK6': 6, 'NFE2L2': 6, 'NFKB1': 6, 'NKAIN1': 6, 'NME1': 6, 'NOD2': 6, 'NOTCH1': 6, 'NOTUM': 6, 'NRCAM': 6, 'NRG1': 6, 'NT5E': 6, 'NUBP2': 6, 'NUDT12': 6, 'NUPR1': 6, 'NUSAP1': 6, 'OAS2': 6, 'OGDHL': 6, 'OGN': 6, 'OLFM4': 6, 'OMD': 6, 'P2RX1': 6, 'PACRG': 6, 'PCDH17': 6, 'PCDHB9': 6, 'PCNA': 6, 'PCP4': 6, 'PCSK9': 6, 'PCYT1B': 6, 'PDCD1LG2': 6, 'PDGFRA': 6, 'PDLIM3': 6, 'PDZK1IP1': 6, 'PDZRN4': 6, 'PEG10': 6, 'PEG3': 6, 'PGM5': 6, 'PGR': 6, 'PI16': 6, 'PI3': 6, 'PIAS4': 6, 'PIK3R1': 6, 'PKD1L1': 6, 'PLA2G2D': 6, 'PLA2G5': 6, 'PLAU': 6, 'PLEK': 6, 'PLEKHB2': 6, 'PLEKHG4B': 6, 'PLN': 6, 'PM20D1': 6, 'PM20D2': 6, 'PMAIP1': 6, 'POLE2': 6, 'POSTN': 6, 'POU2F2': 6, 'PPARA': 6, 'PPARG': 6, 'PPIL2': 6, 'PPM1E': 6, 'PPP1CA': 6, 'PPP1R13B': 6, 'PPP1R14C': 6, 'PRAP1': 6, 'PRC1': 6, 'PRELP': 6, 'PRIM1': 6, 'PRKD1': 6, 'PRNP': 6, 'PRUNE2': 6, 'PSD': 6, 'PSD2': 6, 'PTGIS': 6, 'PTHLH': 6, 'PTN': 6, 'PTPN12': 6, 'PTPRC': 6, 'PTPRE': 6, 'PTPRZ1': 6, 'PTTG1': 6, 'PVALB': 6, 'RAC2': 6, 'RACGAP1': 6, 'RAD51AP1': 6, 'RASL10B': 6, 'RB1': 6, 'REG4': 6, 'RELA': 6, 'RELN': 6, 'RFC3': 6, 'RFC4': 6, 'RFX7': 6, 'RGS20': 6, 'RHBDL3': 6, 'RHCG': 6, 'RIMS4': 6, 'RND2': 6, 'RNF182': 6, 'RPAP1': 6, 'RPL26L1': 6, 'RPL9': 6, 'RRM2': 6, 'S100A4': 6, 'S100A7': 6, 'S100A8': 6, 'SAA1': 6, 'SAA2': 6, 'SCG2': 6, 'SCML2': 6, 'SCN4A': 6, 'SCNN1B': 6, 'SCNN1G': 6, 'SDK2': 6, 'SERPINA1': 6, 'SERPINA3': 6, 'SERPINB13': 6, 'SERPINB2': 6, 'SERPINB3': 6, 'SERPINB4': 6, 'SERPINB7': 6, 'SERPINE1': 6, 'SERPING1': 6, 'SFN': 6, 'SFRP2': 6, 'SFRP4': 6, 'SGCA': 6, 'SGCD': 6, 'SH2B3': 6, 'SHANK3': 6, 'SIGLEC5': 6, 'SIX5': 6, 'SLA': 6, 'SLC14A1': 6, 'SLC15A3': 6, 'SLC1A6': 6, 'SLC2A4': 6, 'SLC30A2': 6, 'SLC30A3': 6, 'SLC38A3': 6, 'SLC6A4': 6, 'SLCO5A1': 6, 'SMAD3': 6, 'SMAD7': 6, 'SMARCA4': 6, 'SMARCB1': 6, 'SMC2': 6, 'SMOC2': 6, 'SNAI1': 6, 'SNAP25': 6, 'SNAP91': 6, 'SNX31': 6, 'SNX5': 6, 'SORBS1': 6, 'SOX2': 6, 'SP1': 6, 'SPDEF': 6, 'SPINK1': 6, 'SPON1': 6, 'SPRR1B': 6, 'SPRR2A': 6, 'SPRR2D': 6, 'SPSB4': 6, 'SREBF2': 6, 'SRF': 6, 'STAC2': 6, 'STAT1': 6, 'STAT3': 6, 'STK36': 6, 'STMN1': 6, 'SV2A': 6, 'SYN2': 6, 'SYNM': 6, 'SYNPO2': 6, 'SYP': 6, 'SYT12': 6, 'TATDN1': 6, 'TBL1X': 6, 'TBX2': 6, 'TCEAL2': 6, 'TCF3': 6, 'TEKT2': 6, 'TESC': 6, 'TFAM': 6, 'TFDP1': 6, 'TFF1': 6, 'TGFA': 6, 'TGFBI': 6, 'TGM1': 6, 'THBS2': 6, 'THBS4': 6, 'TIMP3': 6, 'TM4SF19': 6, 'TMEM132A': 6, 'TMEM45A': 6, 'TMEM59L': 6, 'TMEM63A': 6, 'TMSB15A': 6, 'TNC': 6, 'TNFAIP8': 6, 'TNFRSF10A': 6, 'TNIP3': 6, 'TP53': 6, 'TP63': 6, 'TPM2': 6, 'TPX2': 6, 'TRIM24': 6, 'TRIM31': 6, 'TSC22D3': 6, 'TTK': 6, 'TUBB2B': 6, 'TWIST1': 6, 'UBE2C': 6, 'UBE2T': 6, 'UCA1': 6, 'UCHL1': 6, 'UGT1A1': 6, 'UHRF1': 6, 'UNC119B': 6, 'UPK1A': 6, 'UPK2': 6, 'UPK3A': 6, 'VRK1': 6, 'VSIG8': 6, 'VSNL1': 6, 'WARS': 6, 'WBSCR17': 6, 'WDR66': 6, 'WFDC8': 6, 'XAF1': 6, 'XBP1': 6, 'XPC': 6, 'YBX2': 6, 'ZBED2': 6, 'ZCCHC12': 6, 'ZEB1': 6, 'ZEB2': 6, 'ZMAT3': 6, 'ZNF385B': 6, 'ZNF43': 6, 'ZNF493': 6, 'ZNF592': 6, 'ZNF615': 6, 'ZNF626': 6, 'ZNF697': 6, 'ZNF764': 6}\n",
            "standard 586 586\n",
            "power 586 586\n",
            "rankgauss 586 586\n",
            "CPU times: user 5.26 s, sys: 50.8 ms, total: 5.31 s\n",
            "Wall time: 5.22 s\n"
          ],
          "name": "stdout"
        }
      ]
    },
    {
      "cell_type": "code",
      "metadata": {
        "id": "YwH2VTqKymqj",
        "colab": {
          "base_uri": "https://localhost:8080/"
        },
        "outputId": "91fa662b-73d8-4e52-8a3b-605c4046f898"
      },
      "source": [
        "%%time\n",
        "remain_mth_datasets = dict()\n",
        "for m in methods:\n",
        "  print(m)\n",
        "  tmp = []\n",
        "  for i, ll in enumerate(scaled_datasets4):\n",
        "    tmp1 = ll[m][all_pass_genes_method[m]]\n",
        "    tmp1['response'] = list(mean_datasets4[i]['response'])\n",
        "    tmp.append(tmp1)\n",
        "  remain_mth_datasets[m] = tmp"
      ],
      "execution_count": null,
      "outputs": [
        {
          "output_type": "stream",
          "text": [
            "standard\n",
            "power\n",
            "rankgauss\n",
            "CPU times: user 32.6 ms, sys: 0 ns, total: 32.6 ms\n",
            "Wall time: 32 ms\n"
          ],
          "name": "stdout"
        },
        {
          "output_type": "stream",
          "text": [
            "/usr/local/lib/python3.6/dist-packages/ipykernel_launcher.py:7: SettingWithCopyWarning:\n",
            "\n",
            "\n",
            "A value is trying to be set on a copy of a slice from a DataFrame.\n",
            "Try using .loc[row_indexer,col_indexer] = value instead\n",
            "\n",
            "See the caveats in the documentation: https://pandas.pydata.org/pandas-docs/stable/user_guide/indexing.html#returning-a-view-versus-a-copy\n",
            "\n"
          ],
          "name": "stderr"
        }
      ]
    },
    {
      "cell_type": "code",
      "metadata": {
        "id": "GbLLsqHjo_ft"
      },
      "source": [
        "ut.save_data(remain_mth_datasets, f'{home_path}scaled_datasets_3mths.pkl', 'pickle')"
      ],
      "execution_count": null,
      "outputs": []
    },
    {
      "cell_type": "code",
      "metadata": {
        "id": "Lo7b7bnJZsQL"
      },
      "source": [
        ""
      ],
      "execution_count": null,
      "outputs": []
    }
  ]
}