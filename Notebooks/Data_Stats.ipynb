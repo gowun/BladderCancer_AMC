{
  "nbformat": 4,
  "nbformat_minor": 0,
  "metadata": {
    "colab": {
      "name": "Data_Stats.ipynb",
      "provenance": [],
      "collapsed_sections": [],
      "authorship_tag": "ABX9TyMhaKJSyDZBVRXmwmhHVuMz",
      "include_colab_link": true
    },
    "kernelspec": {
      "name": "python3",
      "display_name": "Python 3"
    }
  },
  "cells": [
    {
      "cell_type": "markdown",
      "metadata": {
        "id": "view-in-github",
        "colab_type": "text"
      },
      "source": [
        "<a href=\"https://colab.research.google.com/github/gowun/BladderCancer_AMC/blob/2-gowun/Notebooks/Data_Stats.ipynb\" target=\"_parent\"><img src=\"https://colab.research.google.com/assets/colab-badge.svg\" alt=\"Open In Colab\"/></a>"
      ]
    },
    {
      "cell_type": "code",
      "metadata": {
        "id": "AstgoBzjDNgD",
        "colab_type": "code",
        "colab": {
          "base_uri": "https://localhost:8080/",
          "height": 156
        },
        "outputId": "b48d6843-8c22-4c91-ad65-c5bbe3b98a0f"
      },
      "source": [
        "from google.colab import auth\n",
        "from google.colab import drive\n",
        "import pandas as pd\n",
        "import numpy as np\n",
        "\n",
        "pd.set_option('display.max_colwidth', -1)\n",
        "\n",
        "auth.authenticate_user()\n",
        "drive.mount('/content/gdrive')\n",
        "home_path = '/content/gdrive/My Drive/BladderCancer_AMC/'"
      ],
      "execution_count": 1,
      "outputs": [
        {
          "output_type": "stream",
          "text": [
            "/usr/local/lib/python3.6/dist-packages/ipykernel_launcher.py:6: FutureWarning: Passing a negative integer is deprecated in version 1.0 and will not be supported in future version. Instead, use None to not limit the column width.\n",
            "  \n"
          ],
          "name": "stderr"
        },
        {
          "output_type": "stream",
          "text": [
            "Go to this URL in a browser: https://accounts.google.com/o/oauth2/auth?client_id=947318989803-6bn6qk8qdgf4n4g3pfee6491hc0brc4i.apps.googleusercontent.com&redirect_uri=urn%3aietf%3awg%3aoauth%3a2.0%3aoob&scope=email%20https%3a%2f%2fwww.googleapis.com%2fauth%2fdocs.test%20https%3a%2f%2fwww.googleapis.com%2fauth%2fdrive%20https%3a%2f%2fwww.googleapis.com%2fauth%2fdrive.photos.readonly%20https%3a%2f%2fwww.googleapis.com%2fauth%2fpeopleapi.readonly&response_type=code\n",
            "\n",
            "Enter your authorization code:\n",
            "··········\n",
            "Mounted at /content/gdrive\n"
          ],
          "name": "stdout"
        }
      ]
    },
    {
      "cell_type": "code",
      "metadata": {
        "id": "pMMxRliQIe_3",
        "colab_type": "code",
        "colab": {
          "base_uri": "https://localhost:8080/",
          "height": 119
        },
        "outputId": "16bf2014-98b0-4ab1-c94b-cec7ae7a4d6a"
      },
      "source": [
        "!git clone -b 2-gowun https://github.com/gowun/BladderCancer_AMC.git"
      ],
      "execution_count": 2,
      "outputs": [
        {
          "output_type": "stream",
          "text": [
            "Cloning into 'BladderCancer_AMC'...\n",
            "remote: Enumerating objects: 79, done.\u001b[K\n",
            "remote: Counting objects: 100% (79/79), done.\u001b[K\n",
            "remote: Compressing objects: 100% (59/59), done.\u001b[K\n",
            "remote: Total 79 (delta 27), reused 54 (delta 17), pack-reused 0\u001b[K\n",
            "Unpacking objects: 100% (79/79), done.\n"
          ],
          "name": "stdout"
        }
      ]
    },
    {
      "cell_type": "code",
      "metadata": {
        "id": "5nAmc5X6IuFK",
        "colab_type": "code",
        "colab": {}
      },
      "source": [
        "from BladderCancer_AMC.ModelingTools import utils as ut\n",
        "from BladderCancer_AMC.ModelingTools import preprocessing as pp\n",
        "from BladderCancer_AMC.ModelingTools import figure as fg"
      ],
      "execution_count": 3,
      "outputs": []
    },
    {
      "cell_type": "code",
      "metadata": {
        "id": "VrbuajJiJREs",
        "colab_type": "code",
        "colab": {}
      },
      "source": [
        "ds_names = ['mda_mvac', 'mda_ddmvac', 'meta_datasets', 'amc']\n",
        "datasets4 = list(map(lambda x: ut.load_data(f'{home_path}{x}.pkl', 'pickle'), ds_names))"
      ],
      "execution_count": 4,
      "outputs": []
    },
    {
      "cell_type": "markdown",
      "metadata": {
        "id": "zYGCI7VOliJB",
        "colab_type": "text"
      },
      "source": [
        "1. 모든 데이터셋에 존재하는 컬럼 (intersect_cols) 및 각 데이터 내 intersect_cols 비율 "
      ]
    },
    {
      "cell_type": "code",
      "metadata": {
        "id": "q9eesGOXdlx4",
        "colab_type": "code",
        "colab": {
          "base_uri": "https://localhost:8080/",
          "height": 34
        },
        "outputId": "6120f227-c929-452a-99cf-883bc54bf22b"
      },
      "source": [
        "#### 전체 데이터셋 모두에서 등장하는 컬럼셋\n",
        "datasets4_cols = list(map(lambda x: set(x.columns), datasets4))\n",
        "intersect_cols = datasets4_cols[0]\n",
        "for cols in datasets4_cols[1:]:\n",
        "  intersect_cols = sorted(set(intersect_cols).intersection(cols))\n",
        "len(intersect_cols)"
      ],
      "execution_count": 5,
      "outputs": [
        {
          "output_type": "execute_result",
          "data": {
            "text/plain": [
              "17000"
            ]
          },
          "metadata": {
            "tags": []
          },
          "execution_count": 5
        }
      ]
    },
    {
      "cell_type": "code",
      "metadata": {
        "id": "KgYVE5_JCgFK",
        "colab_type": "code",
        "colab": {
          "base_uri": "https://localhost:8080/",
          "height": 34
        },
        "outputId": "2bcb8dfe-df6e-4357-cb9d-e84471eb6bc8"
      },
      "source": [
        "intersect_cols.index('response')"
      ],
      "execution_count": 15,
      "outputs": [
        {
          "output_type": "execute_result",
          "data": {
            "text/plain": [
              "16999"
            ]
          },
          "metadata": {
            "tags": []
          },
          "execution_count": 15
        }
      ]
    },
    {
      "cell_type": "code",
      "metadata": {
        "id": "7VrE2-0zgP8K",
        "colab_type": "code",
        "colab": {
          "base_uri": "https://localhost:8080/",
          "height": 85
        },
        "outputId": "a8d621f3-d833-430e-ac26-b135b7d1777c"
      },
      "source": [
        "## 데이터셋 별 intersect_cols 의 비율\n",
        "for i, cols in enumerate(datasets4_cols):\n",
        "  r = round(len(intersect_cols) / len(cols) * 100.0, 2)\n",
        "  print(f'{ds_names[i]}: {r}% from {len(cols)} Gene Symbols')"
      ],
      "execution_count": 7,
      "outputs": [
        {
          "output_type": "stream",
          "text": [
            "mda_mvac: 81.98% from 20737 Gene Symbols\n",
            "mda_ddmvac: 81.7% from 20808 Gene Symbols\n",
            "meta_datasets: 36.94% from 46023 Gene Symbols\n",
            "amc: 69.49% from 24463 Gene Symbols\n"
          ],
          "name": "stdout"
        }
      ]
    },
    {
      "cell_type": "markdown",
      "metadata": {
        "id": "ByELnjk1lxPx",
        "colab_type": "text"
      },
      "source": [
        "2. 주어진 각 Classifiers 중 intersect_cols에 포함된 비율"
      ]
    },
    {
      "cell_type": "code",
      "metadata": {
        "id": "WfSRY6qjmE7A",
        "colab_type": "code",
        "colab": {}
      },
      "source": [
        "## Classifier.csv 로드 및 정제\n",
        "clfs = ut.load_data(home_path + 'Classifiers.csv', 'csv').T"
      ],
      "execution_count": 8,
      "outputs": []
    },
    {
      "cell_type": "code",
      "metadata": {
        "id": "9WqiTTmnmTjf",
        "colab_type": "code",
        "colab": {
          "base_uri": "https://localhost:8080/",
          "height": 272
        },
        "outputId": "035e6a26-7e1d-403d-b2e0-16c68f30fbda"
      },
      "source": [
        "clfs_dict = dict()\n",
        "for i, row in enumerate(clfs.iloc[:-1].values):\n",
        "  tmp = row[np.array(clfs.iloc[i].isna() == False)]\n",
        "  tmp1 = list(filter(lambda x: x in intersect_cols, tmp))\n",
        "  k_name = list(clfs.index)[i]\n",
        "  clfs_dict[k_name] = [len(tmp1), len(tmp1) / len(tmp), tmp1]\n",
        "  #if len(tmp1) < len(tmp):\n",
        "  print(f'{k_name}: {clfs_dict[k_name][:2]}')"
      ],
      "execution_count": 10,
      "outputs": [
        {
          "output_type": "stream",
          "text": [
            "Metacore&GSEA target genes: [26, 0.8387096774193549]\n",
            "GSEA_R enrichment_all: [37, 0.9736842105263158]\n",
            "GSEA_R enrichment_intersection: [11, 1.0]\n",
            "BC Basal: [19, 1.0]\n",
            "BC basal-9gene: [9, 1.0]\n",
            "BC Luminal: [19, 1.0]\n",
            "BC Luminal-16gene: [16, 1.0]\n",
            "BC P53 pathway: [95, 0.9895833333333334]\n",
            "BC P53like: [19, 1.0]\n",
            "BC P63 pathway: [39, 1.0]\n",
            "Basal-squamous_ref.eau-cancer genome: [93, 0.96875]\n",
            "Luminal_ref.eau-cancer genome: [42, 0.9545454545454546]\n",
            "Luminal-infiltrated_ref.eau-cancer genome: [71, 1.0]\n",
            "Luminal-papillary_ref.eau-cancer genome: [23, 1.0]\n",
            "Neuronal_ref.eau-cancer genome: [94, 0.9690721649484536]\n"
          ],
          "name": "stdout"
        }
      ]
    },
    {
      "cell_type": "code",
      "metadata": {
        "id": "TtNOvyJKm1DL",
        "colab_type": "code",
        "colab": {}
      },
      "source": [
        "ut.save_data(clfs_dict, home_path + 'intersect_classifiers.pkl', 'pickle')"
      ],
      "execution_count": 11,
      "outputs": []
    },
    {
      "cell_type": "code",
      "metadata": {
        "id": "tip4HTmsoGag",
        "colab_type": "code",
        "colab": {}
      },
      "source": [
        "clfs_df = pd.DataFrame(list(map(lambda x: x[2], clfs_dict.values())), index=list(clfs_dict.keys())).T\n",
        "ut.save_data(clfs_df, home_path + 'intersect_classifiers.csv', 'csv')"
      ],
      "execution_count": 12,
      "outputs": []
    },
    {
      "cell_type": "markdown",
      "metadata": {
        "id": "Rp90ccEKqSjv",
        "colab_type": "text"
      },
      "source": [
        "3. 각 데이터셋의 기초 통계"
      ]
    },
    {
      "cell_type": "code",
      "metadata": {
        "id": "hskGU0bcojeI",
        "colab_type": "code",
        "colab": {
          "base_uri": "https://localhost:8080/",
          "height": 51
        },
        "outputId": "bb56b88b-05ed-4f6a-cbd8-a2ad1c43ecb2"
      },
      "source": [
        "%%time\n",
        "mean_datasets4 = list(map(lambda x: pp.handle_repeated_columns(x[intersect_cols])[1], datasets4))"
      ],
      "execution_count": 13,
      "outputs": [
        {
          "output_type": "stream",
          "text": [
            "CPU times: user 48.5 s, sys: 1.08 s, total: 49.6 s\n",
            "Wall time: 47.9 s\n"
          ],
          "name": "stdout"
        }
      ]
    },
    {
      "cell_type": "code",
      "metadata": {
        "id": "2DVKXH6Xbo_W",
        "colab_type": "code",
        "colab": {}
      },
      "source": [
        "ut.save_data(mean_datasets4, f'{home_path}mean_datasets4.pkl', 'pickle')"
      ],
      "execution_count": 14,
      "outputs": []
    },
    {
      "cell_type": "code",
      "metadata": {
        "id": "jgq56nHtA4Fp",
        "colab_type": "code",
        "colab": {
          "base_uri": "https://localhost:8080/",
          "height": 51
        },
        "outputId": "1a15e534-745b-4223-8889-8b986da66568"
      },
      "source": [
        "%%time\n",
        "for i, nm in enumerate(ds_names):\n",
        "  tmp = mean_datasets4[i].describe()\n",
        "  ut.save_data(tmp.reset_index(), f'{home_path}{nm}.csv', 'csv')"
      ],
      "execution_count": 16,
      "outputs": [
        {
          "output_type": "stream",
          "text": [
            "CPU times: user 2min 12s, sys: 499 ms, total: 2min 13s\n",
            "Wall time: 2min 15s\n"
          ],
          "name": "stdout"
        }
      ]
    },
    {
      "cell_type": "markdown",
      "metadata": {
        "id": "Js6T4tnhbAum",
        "colab_type": "text"
      },
      "source": [
        "4. Optimal Normalization Algorithm 도출"
      ]
    },
    {
      "cell_type": "code",
      "metadata": {
        "id": "v2r_zejjj1Mc",
        "colab_type": "code",
        "colab": {}
      },
      "source": [
        "methods = ['log2', 'log2_minmax', 'standard', 'minmax', 'max_abs', 'robust', 'power', 'quantile', 'rankgauss']"
      ],
      "execution_count": 17,
      "outputs": []
    },
    {
      "cell_type": "code",
      "metadata": {
        "id": "zZeKiJk7cABP",
        "colab_type": "code",
        "colab": {
          "base_uri": "https://localhost:8080/",
          "height": 1000
        },
        "outputId": "b96d7f8a-0835-49bc-d7fa-a77b5d407c21"
      },
      "source": [
        "%%time\n",
        "scaled_datasets4 = []\n",
        "for i, d in enumerate(mean_datasets4):\n",
        "  print(i)\n",
        "  scaled_datasets4.append(pp.scale_with_scalers(d, methods))"
      ],
      "execution_count": 18,
      "outputs": [
        {
          "output_type": "stream",
          "text": [
            "0\n"
          ],
          "name": "stdout"
        },
        {
          "output_type": "stream",
          "text": [
            "/usr/local/lib/python3.6/dist-packages/pandas/core/series.py:679: RuntimeWarning:\n",
            "\n",
            "divide by zero encountered in log2\n",
            "\n",
            "/usr/local/lib/python3.6/dist-packages/numpy/core/_methods.py:195: RuntimeWarning:\n",
            "\n",
            "overflow encountered in multiply\n",
            "\n",
            "/usr/local/lib/python3.6/dist-packages/sklearn/preprocessing/_data.py:2982: RuntimeWarning:\n",
            "\n",
            "divide by zero encountered in log\n",
            "\n",
            "/usr/local/lib/python3.6/dist-packages/numpy/core/_methods.py:199: RuntimeWarning:\n",
            "\n",
            "overflow encountered in reduce\n",
            "\n",
            "/usr/local/lib/python3.6/dist-packages/sklearn/preprocessing/_data.py:2947: RuntimeWarning:\n",
            "\n",
            "overflow encountered in power\n",
            "\n",
            "/usr/local/lib/python3.6/dist-packages/sklearn/preprocessing/_data.py:2357: UserWarning:\n",
            "\n",
            "n_quantiles (1000) is greater than the total number of samples (23). n_quantiles is set to n_samples.\n",
            "\n"
          ],
          "name": "stderr"
        },
        {
          "output_type": "stream",
          "text": [
            "1\n"
          ],
          "name": "stdout"
        },
        {
          "output_type": "stream",
          "text": [
            "/usr/local/lib/python3.6/dist-packages/pandas/core/series.py:679: RuntimeWarning:\n",
            "\n",
            "divide by zero encountered in log2\n",
            "\n",
            "/usr/local/lib/python3.6/dist-packages/sklearn/preprocessing/_data.py:2947: RuntimeWarning:\n",
            "\n",
            "overflow encountered in power\n",
            "\n",
            "/usr/local/lib/python3.6/dist-packages/numpy/core/_methods.py:195: RuntimeWarning:\n",
            "\n",
            "overflow encountered in multiply\n",
            "\n",
            "/usr/local/lib/python3.6/dist-packages/numpy/core/_methods.py:199: RuntimeWarning:\n",
            "\n",
            "overflow encountered in reduce\n",
            "\n",
            "/usr/local/lib/python3.6/dist-packages/sklearn/preprocessing/_data.py:2982: RuntimeWarning:\n",
            "\n",
            "divide by zero encountered in log\n",
            "\n",
            "/usr/local/lib/python3.6/dist-packages/sklearn/preprocessing/_data.py:2357: UserWarning:\n",
            "\n",
            "n_quantiles (1000) is greater than the total number of samples (38). n_quantiles is set to n_samples.\n",
            "\n"
          ],
          "name": "stderr"
        },
        {
          "output_type": "stream",
          "text": [
            "2\n"
          ],
          "name": "stdout"
        },
        {
          "output_type": "stream",
          "text": [
            "/usr/local/lib/python3.6/dist-packages/pandas/core/series.py:679: RuntimeWarning:\n",
            "\n",
            "invalid value encountered in log2\n",
            "\n",
            "/usr/local/lib/python3.6/dist-packages/pandas/core/series.py:679: RuntimeWarning:\n",
            "\n",
            "divide by zero encountered in log2\n",
            "\n",
            "/usr/local/lib/python3.6/dist-packages/sklearn/preprocessing/_data.py:375: RuntimeWarning:\n",
            "\n",
            "All-NaN slice encountered\n",
            "\n",
            "/usr/local/lib/python3.6/dist-packages/sklearn/preprocessing/_data.py:376: RuntimeWarning:\n",
            "\n",
            "All-NaN slice encountered\n",
            "\n",
            "/usr/local/lib/python3.6/dist-packages/sklearn/preprocessing/_data.py:2357: UserWarning:\n",
            "\n",
            "n_quantiles (1000) is greater than the total number of samples (299). n_quantiles is set to n_samples.\n",
            "\n"
          ],
          "name": "stderr"
        },
        {
          "output_type": "stream",
          "text": [
            "3\n"
          ],
          "name": "stdout"
        },
        {
          "output_type": "stream",
          "text": [
            "/usr/local/lib/python3.6/dist-packages/pandas/core/series.py:679: RuntimeWarning:\n",
            "\n",
            "divide by zero encountered in log2\n",
            "\n",
            "/usr/local/lib/python3.6/dist-packages/sklearn/preprocessing/_data.py:2982: RuntimeWarning:\n",
            "\n",
            "divide by zero encountered in log\n",
            "\n",
            "/usr/local/lib/python3.6/dist-packages/sklearn/preprocessing/_data.py:2357: UserWarning:\n",
            "\n",
            "n_quantiles (1000) is greater than the total number of samples (43). n_quantiles is set to n_samples.\n",
            "\n"
          ],
          "name": "stderr"
        },
        {
          "output_type": "stream",
          "text": [
            "CPU times: user 6min 43s, sys: 7.15 s, total: 6min 50s\n",
            "Wall time: 6min 36s\n"
          ],
          "name": "stdout"
        }
      ]
    },
    {
      "cell_type": "code",
      "metadata": {
        "id": "LU5nmbpsgFeB",
        "colab_type": "code",
        "colab": {
          "base_uri": "https://localhost:8080/",
          "height": 34
        },
        "outputId": "fa969f6d-6cdf-4b70-b509-636566673e95"
      },
      "source": [
        "from itertools import combinations\n",
        "orders = list(range(len(mean_datasets4)))\n",
        "orders = list(combinations(orders, 2))\n",
        "orders"
      ],
      "execution_count": 19,
      "outputs": [
        {
          "output_type": "execute_result",
          "data": {
            "text/plain": [
              "[(0, 1), (0, 2), (0, 3), (1, 2), (1, 3), (2, 3)]"
            ]
          },
          "metadata": {
            "tags": []
          },
          "execution_count": 19
        }
      ]
    },
    {
      "cell_type": "code",
      "metadata": {
        "id": "ku3kfDP5i3LZ",
        "colab_type": "code",
        "colab": {
          "base_uri": "https://localhost:8080/",
          "height": 1000
        },
        "outputId": "1f7c429c-5f38-4ddd-d4e6-d64db7a3d480"
      },
      "source": [
        "%%time\n",
        "## 알고리즘 별로 분포가 비슷한 컬럼셋 도출\n",
        "cols_dict = dict()\n",
        "remain_clfs_dict = dict()\n",
        "for m in methods:\n",
        "  print(m)\n",
        "  for o1, o2 in orders:\n",
        "    if m in cols_dict.keys():\n",
        "      cols = sorted(set(intersect_cols[:-1]).intersection(set(cols_dict[m])))\n",
        "      if len(cols) > 0:\n",
        "        cols_dict[m] = pp.compare_two_samples_and_draw_feasible_columns(scaled_datasets4[o1][m][cols], scaled_datasets4[o2][m][cols])\n",
        "    else:\n",
        "      cols_dict[m] = pp.compare_two_samples_and_draw_feasible_columns(scaled_datasets4[o1][m][:-1], scaled_datasets4[o2][m][:-1])\n",
        "  print(f'{m}: {len(cols_dict[m])} remains')\n",
        "  if len(cols_dict[m]) > 0:\n",
        "    remain_clfs_dict[m] = dict()\n",
        "    for key in clfs_dict.keys():\n",
        "      rrr = sorted(set(clfs_dict[key][2]).intersection(set(cols_dict[m])))\n",
        "      rr = len(rrr) / clfs_dict[key][0] * 100.0\n",
        "      r = clfs_dict[key][1] * rr\n",
        "      remain_clfs_dict[m][key] = [rrr, rr, r]\n",
        "      print(f'{m}-{key}: {len(rrr)}({r} % from the original, {rr} % from the reduced) remaines')"
      ],
      "execution_count": 20,
      "outputs": [
        {
          "output_type": "stream",
          "text": [
            "log2\n",
            "log2: 0 remains\n",
            "log2_minmax\n",
            "log2_minmax: 13 remains\n",
            "log2_minmax-Metacore&GSEA target genes: 0(0.0 % from the original, 0.0 % from the reduced) remaines\n",
            "log2_minmax-GSEA_R enrichment_all: 0(0.0 % from the original, 0.0 % from the reduced) remaines\n",
            "log2_minmax-GSEA_R enrichment_intersection: 0(0.0 % from the original, 0.0 % from the reduced) remaines\n",
            "log2_minmax-BC Basal: 0(0.0 % from the original, 0.0 % from the reduced) remaines\n",
            "log2_minmax-BC basal-9gene: 0(0.0 % from the original, 0.0 % from the reduced) remaines\n",
            "log2_minmax-BC Luminal: 0(0.0 % from the original, 0.0 % from the reduced) remaines\n",
            "log2_minmax-BC Luminal-16gene: 1(6.25 % from the original, 6.25 % from the reduced) remaines\n",
            "log2_minmax-BC P53 pathway: 0(0.0 % from the original, 0.0 % from the reduced) remaines\n",
            "log2_minmax-BC P53like: 0(0.0 % from the original, 0.0 % from the reduced) remaines\n",
            "log2_minmax-BC P63 pathway: 0(0.0 % from the original, 0.0 % from the reduced) remaines\n",
            "log2_minmax-Basal-squamous_ref.eau-cancer genome: 1(1.0416666666666667 % from the original, 1.0752688172043012 % from the reduced) remaines\n",
            "log2_minmax-Luminal_ref.eau-cancer genome: 0(0.0 % from the original, 0.0 % from the reduced) remaines\n",
            "log2_minmax-Luminal-infiltrated_ref.eau-cancer genome: 0(0.0 % from the original, 0.0 % from the reduced) remaines\n",
            "log2_minmax-Luminal-papillary_ref.eau-cancer genome: 0(0.0 % from the original, 0.0 % from the reduced) remaines\n",
            "log2_minmax-Neuronal_ref.eau-cancer genome: 0(0.0 % from the original, 0.0 % from the reduced) remaines\n",
            "standard\n",
            "standard: 16999 remains\n",
            "standard-Metacore&GSEA target genes: 26(83.87096774193549 % from the original, 100.0 % from the reduced) remaines\n",
            "standard-GSEA_R enrichment_all: 37(97.36842105263158 % from the original, 100.0 % from the reduced) remaines\n",
            "standard-GSEA_R enrichment_intersection: 11(100.0 % from the original, 100.0 % from the reduced) remaines\n",
            "standard-BC Basal: 19(100.0 % from the original, 100.0 % from the reduced) remaines\n",
            "standard-BC basal-9gene: 9(100.0 % from the original, 100.0 % from the reduced) remaines\n",
            "standard-BC Luminal: 19(100.0 % from the original, 100.0 % from the reduced) remaines\n",
            "standard-BC Luminal-16gene: 16(100.0 % from the original, 100.0 % from the reduced) remaines\n",
            "standard-BC P53 pathway: 95(98.95833333333334 % from the original, 100.0 % from the reduced) remaines\n",
            "standard-BC P53like: 19(100.0 % from the original, 100.0 % from the reduced) remaines\n",
            "standard-BC P63 pathway: 39(100.0 % from the original, 100.0 % from the reduced) remaines\n",
            "standard-Basal-squamous_ref.eau-cancer genome: 93(96.875 % from the original, 100.0 % from the reduced) remaines\n",
            "standard-Luminal_ref.eau-cancer genome: 42(95.45454545454545 % from the original, 100.0 % from the reduced) remaines\n",
            "standard-Luminal-infiltrated_ref.eau-cancer genome: 71(100.0 % from the original, 100.0 % from the reduced) remaines\n",
            "standard-Luminal-papillary_ref.eau-cancer genome: 23(100.0 % from the original, 100.0 % from the reduced) remaines\n",
            "standard-Neuronal_ref.eau-cancer genome: 94(96.90721649484536 % from the original, 100.0 % from the reduced) remaines\n",
            "minmax\n",
            "minmax: 86 remains\n",
            "minmax-Metacore&GSEA target genes: 0(0.0 % from the original, 0.0 % from the reduced) remaines\n",
            "minmax-GSEA_R enrichment_all: 0(0.0 % from the original, 0.0 % from the reduced) remaines\n",
            "minmax-GSEA_R enrichment_intersection: 0(0.0 % from the original, 0.0 % from the reduced) remaines\n",
            "minmax-BC Basal: 0(0.0 % from the original, 0.0 % from the reduced) remaines\n",
            "minmax-BC basal-9gene: 0(0.0 % from the original, 0.0 % from the reduced) remaines\n",
            "minmax-BC Luminal: 0(0.0 % from the original, 0.0 % from the reduced) remaines\n",
            "minmax-BC Luminal-16gene: 0(0.0 % from the original, 0.0 % from the reduced) remaines\n",
            "minmax-BC P53 pathway: 0(0.0 % from the original, 0.0 % from the reduced) remaines\n",
            "minmax-BC P53like: 0(0.0 % from the original, 0.0 % from the reduced) remaines\n",
            "minmax-BC P63 pathway: 0(0.0 % from the original, 0.0 % from the reduced) remaines\n",
            "minmax-Basal-squamous_ref.eau-cancer genome: 0(0.0 % from the original, 0.0 % from the reduced) remaines\n",
            "minmax-Luminal_ref.eau-cancer genome: 0(0.0 % from the original, 0.0 % from the reduced) remaines\n",
            "minmax-Luminal-infiltrated_ref.eau-cancer genome: 0(0.0 % from the original, 0.0 % from the reduced) remaines\n",
            "minmax-Luminal-papillary_ref.eau-cancer genome: 0(0.0 % from the original, 0.0 % from the reduced) remaines\n",
            "minmax-Neuronal_ref.eau-cancer genome: 0(0.0 % from the original, 0.0 % from the reduced) remaines\n",
            "max_abs\n",
            "max_abs: 0 remains\n",
            "robust\n",
            "robust: 10237 remains\n",
            "robust-Metacore&GSEA target genes: 16(51.612903225806456 % from the original, 61.53846153846154 % from the reduced) remaines\n",
            "robust-GSEA_R enrichment_all: 17(44.736842105263165 % from the original, 45.94594594594595 % from the reduced) remaines\n",
            "robust-GSEA_R enrichment_intersection: 3(27.27272727272727 % from the original, 27.27272727272727 % from the reduced) remaines\n",
            "robust-BC Basal: 13(68.42105263157895 % from the original, 68.42105263157895 % from the reduced) remaines\n",
            "robust-BC basal-9gene: 3(33.33333333333333 % from the original, 33.33333333333333 % from the reduced) remaines\n",
            "robust-BC Luminal: 14(73.68421052631578 % from the original, 73.68421052631578 % from the reduced) remaines\n",
            "robust-BC Luminal-16gene: 8(50.0 % from the original, 50.0 % from the reduced) remaines\n",
            "robust-BC P53 pathway: 68(70.83333333333334 % from the original, 71.57894736842105 % from the reduced) remaines\n",
            "robust-BC P53like: 13(68.42105263157895 % from the original, 68.42105263157895 % from the reduced) remaines\n",
            "robust-BC P63 pathway: 25(64.1025641025641 % from the original, 64.1025641025641 % from the reduced) remaines\n",
            "robust-Basal-squamous_ref.eau-cancer genome: 45(46.875 % from the original, 48.38709677419355 % from the reduced) remaines\n",
            "robust-Luminal_ref.eau-cancer genome: 16(36.36363636363637 % from the original, 38.095238095238095 % from the reduced) remaines\n",
            "robust-Luminal-infiltrated_ref.eau-cancer genome: 24(33.80281690140845 % from the original, 33.80281690140845 % from the reduced) remaines\n",
            "robust-Luminal-papillary_ref.eau-cancer genome: 10(43.47826086956522 % from the original, 43.47826086956522 % from the reduced) remaines\n",
            "robust-Neuronal_ref.eau-cancer genome: 37(38.144329896907216 % from the original, 39.361702127659576 % from the reduced) remaines\n",
            "power\n",
            "power: 16998 remains\n",
            "power-Metacore&GSEA target genes: 26(83.87096774193549 % from the original, 100.0 % from the reduced) remaines\n",
            "power-GSEA_R enrichment_all: 37(97.36842105263158 % from the original, 100.0 % from the reduced) remaines\n",
            "power-GSEA_R enrichment_intersection: 11(100.0 % from the original, 100.0 % from the reduced) remaines\n",
            "power-BC Basal: 19(100.0 % from the original, 100.0 % from the reduced) remaines\n",
            "power-BC basal-9gene: 9(100.0 % from the original, 100.0 % from the reduced) remaines\n",
            "power-BC Luminal: 19(100.0 % from the original, 100.0 % from the reduced) remaines\n",
            "power-BC Luminal-16gene: 16(100.0 % from the original, 100.0 % from the reduced) remaines\n",
            "power-BC P53 pathway: 95(98.95833333333334 % from the original, 100.0 % from the reduced) remaines\n",
            "power-BC P53like: 19(100.0 % from the original, 100.0 % from the reduced) remaines\n",
            "power-BC P63 pathway: 39(100.0 % from the original, 100.0 % from the reduced) remaines\n",
            "power-Basal-squamous_ref.eau-cancer genome: 93(96.875 % from the original, 100.0 % from the reduced) remaines\n",
            "power-Luminal_ref.eau-cancer genome: 42(95.45454545454545 % from the original, 100.0 % from the reduced) remaines\n",
            "power-Luminal-infiltrated_ref.eau-cancer genome: 71(100.0 % from the original, 100.0 % from the reduced) remaines\n",
            "power-Luminal-papillary_ref.eau-cancer genome: 23(100.0 % from the original, 100.0 % from the reduced) remaines\n",
            "power-Neuronal_ref.eau-cancer genome: 94(96.90721649484536 % from the original, 100.0 % from the reduced) remaines\n",
            "quantile\n",
            "quantile: 5326 remains\n",
            "quantile-Metacore&GSEA target genes: 12(38.70967741935484 % from the original, 46.15384615384615 % from the reduced) remaines\n",
            "quantile-GSEA_R enrichment_all: 11(28.947368421052634 % from the original, 29.72972972972973 % from the reduced) remaines\n",
            "quantile-GSEA_R enrichment_intersection: 1(9.090909090909092 % from the original, 9.090909090909092 % from the reduced) remaines\n",
            "quantile-BC Basal: 14(73.68421052631578 % from the original, 73.68421052631578 % from the reduced) remaines\n",
            "quantile-BC basal-9gene: 4(44.44444444444444 % from the original, 44.44444444444444 % from the reduced) remaines\n",
            "quantile-BC Luminal: 14(73.68421052631578 % from the original, 73.68421052631578 % from the reduced) remaines\n",
            "quantile-BC Luminal-16gene: 12(75.0 % from the original, 75.0 % from the reduced) remaines\n",
            "quantile-BC P53 pathway: 44(45.833333333333336 % from the original, 46.31578947368421 % from the reduced) remaines\n",
            "quantile-BC P53like: 9(47.368421052631575 % from the original, 47.368421052631575 % from the reduced) remaines\n",
            "quantile-BC P63 pathway: 14(35.8974358974359 % from the original, 35.8974358974359 % from the reduced) remaines\n",
            "quantile-Basal-squamous_ref.eau-cancer genome: 11(11.458333333333334 % from the original, 11.827956989247312 % from the reduced) remaines\n",
            "quantile-Luminal_ref.eau-cancer genome: 4(9.090909090909092 % from the original, 9.523809523809524 % from the reduced) remaines\n",
            "quantile-Luminal-infiltrated_ref.eau-cancer genome: 2(2.8169014084507045 % from the original, 2.8169014084507045 % from the reduced) remaines\n",
            "quantile-Luminal-papillary_ref.eau-cancer genome: 4(17.391304347826086 % from the original, 17.391304347826086 % from the reduced) remaines\n",
            "quantile-Neuronal_ref.eau-cancer genome: 3(3.0927835051546393 % from the original, 3.1914893617021276 % from the reduced) remaines\n",
            "rankgauss\n",
            "rankgauss: 16995 remains\n",
            "rankgauss-Metacore&GSEA target genes: 26(83.87096774193549 % from the original, 100.0 % from the reduced) remaines\n",
            "rankgauss-GSEA_R enrichment_all: 37(97.36842105263158 % from the original, 100.0 % from the reduced) remaines\n",
            "rankgauss-GSEA_R enrichment_intersection: 11(100.0 % from the original, 100.0 % from the reduced) remaines\n",
            "rankgauss-BC Basal: 19(100.0 % from the original, 100.0 % from the reduced) remaines\n",
            "rankgauss-BC basal-9gene: 9(100.0 % from the original, 100.0 % from the reduced) remaines\n",
            "rankgauss-BC Luminal: 19(100.0 % from the original, 100.0 % from the reduced) remaines\n",
            "rankgauss-BC Luminal-16gene: 16(100.0 % from the original, 100.0 % from the reduced) remaines\n",
            "rankgauss-BC P53 pathway: 95(98.95833333333334 % from the original, 100.0 % from the reduced) remaines\n",
            "rankgauss-BC P53like: 19(100.0 % from the original, 100.0 % from the reduced) remaines\n",
            "rankgauss-BC P63 pathway: 39(100.0 % from the original, 100.0 % from the reduced) remaines\n",
            "rankgauss-Basal-squamous_ref.eau-cancer genome: 93(96.875 % from the original, 100.0 % from the reduced) remaines\n",
            "rankgauss-Luminal_ref.eau-cancer genome: 42(95.45454545454545 % from the original, 100.0 % from the reduced) remaines\n",
            "rankgauss-Luminal-infiltrated_ref.eau-cancer genome: 71(100.0 % from the original, 100.0 % from the reduced) remaines\n",
            "rankgauss-Luminal-papillary_ref.eau-cancer genome: 23(100.0 % from the original, 100.0 % from the reduced) remaines\n",
            "rankgauss-Neuronal_ref.eau-cancer genome: 94(96.90721649484536 % from the original, 100.0 % from the reduced) remaines\n",
            "CPU times: user 5min 13s, sys: 3.27 s, total: 5min 16s\n",
            "Wall time: 5min 12s\n"
          ],
          "name": "stdout"
        }
      ]
    },
    {
      "cell_type": "code",
      "metadata": {
        "id": "YwH2VTqKymqj",
        "colab_type": "code",
        "colab": {
          "base_uri": "https://localhost:8080/",
          "height": 102
        },
        "outputId": "579843bd-05b6-4e99-e447-ae80b00f1854"
      },
      "source": [
        "%%time\n",
        "remain_mth_datasets = dict()\n",
        "for m in remain_clfs_dict.keys():\n",
        "  if sum(map(lambda x: x[1] == 100.0, remain_clfs_dict[m].values())) == len(clfs_dict):\n",
        "    print(m)\n",
        "    tmp = []\n",
        "    for ll in scaled_datasets4:\n",
        "      tmp.append(ll[m][cols_dict[m] + ['response']])\n",
        "    remain_mth_datasets[m] = tmp"
      ],
      "execution_count": 21,
      "outputs": [
        {
          "output_type": "stream",
          "text": [
            "standard\n",
            "power\n",
            "rankgauss\n",
            "CPU times: user 183 ms, sys: 37.7 ms, total: 221 ms\n",
            "Wall time: 218 ms\n"
          ],
          "name": "stdout"
        }
      ]
    },
    {
      "cell_type": "code",
      "metadata": {
        "id": "GbLLsqHjo_ft",
        "colab_type": "code",
        "colab": {}
      },
      "source": [
        "ut.save_data(remain_clfs_dict, f'{home_path}scaled_datasets_3mths.pkl', 'pickle')"
      ],
      "execution_count": 22,
      "outputs": []
    },
    {
      "cell_type": "code",
      "metadata": {
        "id": "db_iPdP8Zzyh",
        "colab_type": "code",
        "colab": {}
      },
      "source": [
        ""
      ],
      "execution_count": null,
      "outputs": []
    }
  ]
}