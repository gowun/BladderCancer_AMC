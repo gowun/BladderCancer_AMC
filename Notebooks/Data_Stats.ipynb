{
  "nbformat": 4,
  "nbformat_minor": 0,
  "metadata": {
    "colab": {
      "name": "Data_Stats.ipynb",
      "provenance": [],
      "collapsed_sections": [],
      "authorship_tag": "ABX9TyNvKwVkCi2Eh+KiSrWaX6pz",
      "include_colab_link": true
    },
    "kernelspec": {
      "name": "python3",
      "display_name": "Python 3"
    }
  },
  "cells": [
    {
      "cell_type": "markdown",
      "metadata": {
        "id": "view-in-github",
        "colab_type": "text"
      },
      "source": [
        "<a href=\"https://colab.research.google.com/github/gowun/BladderCancer_AMC/blob/2-gowun/Notebooks/Data_Stats.ipynb\" target=\"_parent\"><img src=\"https://colab.research.google.com/assets/colab-badge.svg\" alt=\"Open In Colab\"/></a>"
      ]
    },
    {
      "cell_type": "code",
      "metadata": {
        "id": "AstgoBzjDNgD",
        "colab_type": "code",
        "colab": {}
      },
      "source": [
        "from google.colab import auth\n",
        "from google.colab import drive\n",
        "import pandas as pd\n",
        "import numpy as np\n",
        "\n",
        "pd.set_option('display.max_colwidth', -1)\n",
        "\n",
        "auth.authenticate_user()\n",
        "drive.mount('/content/gdrive')\n",
        "home_path = '/content/gdrive/My Drive/BladderCancer_AMC/'"
      ],
      "execution_count": null,
      "outputs": []
    },
    {
      "cell_type": "code",
      "metadata": {
        "id": "pMMxRliQIe_3",
        "colab_type": "code",
        "colab": {}
      },
      "source": [
        "!git clone -b 2-gowun https://github.com/gowun/BladderCancer_AMC.git"
      ],
      "execution_count": null,
      "outputs": []
    },
    {
      "cell_type": "code",
      "metadata": {
        "id": "5nAmc5X6IuFK",
        "colab_type": "code",
        "colab": {}
      },
      "source": [
        "from BladderCancer_AMC.ModelingTools import utils as ut\n",
        "from BladderCancer_AMC.ModelingTools import preprocessing as pp\n",
        "from BladderCancer_AMC.ModelingTools import figure as fg"
      ],
      "execution_count": null,
      "outputs": []
    },
    {
      "cell_type": "code",
      "metadata": {
        "id": "VrbuajJiJREs",
        "colab_type": "code",
        "colab": {}
      },
      "source": [
        "ds_names = ['mda_mvac', 'mda_ddmvac', 'meta_datasets', 'amc']\n",
        "datasets4 = list(map(lambda x: ut.load_data(f'{home_path}{x}.pkl', 'pickle'), ds_names))"
      ],
      "execution_count": null,
      "outputs": []
    },
    {
      "cell_type": "markdown",
      "metadata": {
        "id": "zYGCI7VOliJB",
        "colab_type": "text"
      },
      "source": [
        "1. 모든 데이터셋에 존재하는 컬럼 (intersect_cols) 및 각 데이터 내 intersect_cols 비율 "
      ]
    },
    {
      "cell_type": "code",
      "metadata": {
        "id": "q9eesGOXdlx4",
        "colab_type": "code",
        "colab": {}
      },
      "source": [
        "#### 전체 데이터셋 모두에서 등장하는 컬럼셋\n",
        "datasets4_cols = list(map(lambda x: set(x.columns), datasets4))\n",
        "intersect_cols = datasets4_cols[0]\n",
        "for cols in datasets4_cols[1:]:\n",
        "  intersect_cols = sorted(set(intersect_cols).intersection(cols))\n",
        "len(intersect_cols)"
      ],
      "execution_count": null,
      "outputs": []
    },
    {
      "cell_type": "code",
      "metadata": {
        "id": "7VrE2-0zgP8K",
        "colab_type": "code",
        "colab": {}
      },
      "source": [
        "## 데이터셋 별 intersect_cols 의 비율\n",
        "for i, cols in enumerate(datasets4_cols):\n",
        "  r = round(len(intersect_cols) / len(cols) * 100.0, 2)\n",
        "  print(f'{ds_names[i]}: {r}% from {len(cols)} Gene Symbols')"
      ],
      "execution_count": null,
      "outputs": []
    },
    {
      "cell_type": "markdown",
      "metadata": {
        "id": "ByELnjk1lxPx",
        "colab_type": "text"
      },
      "source": [
        "2. 주어진 각 Classifiers 중 intersect_cols에 포함된 비율"
      ]
    },
    {
      "cell_type": "code",
      "metadata": {
        "id": "WfSRY6qjmE7A",
        "colab_type": "code",
        "colab": {}
      },
      "source": [
        "## Classifier.csv 로드 및 정제\n",
        "clfs = ut.load_data(home_path + 'Classifiers.csv', 'csv').T"
      ],
      "execution_count": null,
      "outputs": []
    },
    {
      "cell_type": "code",
      "metadata": {
        "id": "9WqiTTmnmTjf",
        "colab_type": "code",
        "colab": {}
      },
      "source": [
        "clfs_dict = dict()\n",
        "for i, row in enumerate(clfs.iloc[:-1].values):\n",
        "  tmp = row[np.array(clfs.iloc[i].isna() == False)]\n",
        "  tmp1 = list(filter(lambda x: x in intersect_cols, tmp))\n",
        "  k_name = list(clfs.index)[i]\n",
        "  clfs_dict[k_name] = [len(tmp1), len(tmp1) / len(tmp), tmp1]\n",
        "  if len(tmp1) < len(tmp):\n",
        "    print(f'{k_name}: {clfs_dict[k_name][:2]}')"
      ],
      "execution_count": null,
      "outputs": []
    },
    {
      "cell_type": "code",
      "metadata": {
        "id": "TtNOvyJKm1DL",
        "colab_type": "code",
        "colab": {}
      },
      "source": [
        "ut.save_data(clfs_dict, home_path + 'intersect_classifiers.pkl', 'pickle')"
      ],
      "execution_count": null,
      "outputs": []
    },
    {
      "cell_type": "code",
      "metadata": {
        "id": "tip4HTmsoGag",
        "colab_type": "code",
        "colab": {}
      },
      "source": [
        "clfs_df = pd.DataFrame(list(map(lambda x: x[2], clfs_dict.values())), index=list(clfs_dict.keys())).T\n",
        "ut.save_data(clfs_df, home_path + 'intersect_classifiers.csv', 'csv')"
      ],
      "execution_count": null,
      "outputs": []
    },
    {
      "cell_type": "markdown",
      "metadata": {
        "id": "Rp90ccEKqSjv",
        "colab_type": "text"
      },
      "source": [
        "3. 각 데이터셋의 기초 통계"
      ]
    },
    {
      "cell_type": "code",
      "metadata": {
        "id": "hskGU0bcojeI",
        "colab_type": "code",
        "colab": {}
      },
      "source": [
        "%%time\n",
        "mean_datasets4 = list(map(lambda x: pp.handle_repeated_columns(x[intersect_cols])[1], datasets4))"
      ],
      "execution_count": null,
      "outputs": []
    },
    {
      "cell_type": "code",
      "metadata": {
        "id": "2DVKXH6Xbo_W",
        "colab_type": "code",
        "colab": {}
      },
      "source": [
        "ut.save_data(mean_datasets4, f'{home_path}mean_datasets4.pkl', 'pickle')"
      ],
      "execution_count": null,
      "outputs": []
    },
    {
      "cell_type": "code",
      "metadata": {
        "id": "jgq56nHtA4Fp",
        "colab_type": "code",
        "colab": {}
      },
      "source": [
        "%%time\n",
        "for i, nm in enumerate(ds_names):\n",
        "  tmp = mean_datasets4[i].describe()\n",
        "  ut.save_data(tmp.reset_index(), f'{home_path}{nm}.csv', 'csv')"
      ],
      "execution_count": null,
      "outputs": []
    },
    {
      "cell_type": "markdown",
      "metadata": {
        "id": "Js6T4tnhbAum",
        "colab_type": "text"
      },
      "source": [
        "4. Optimal Normalization Algorithm 도출"
      ]
    },
    {
      "cell_type": "code",
      "metadata": {
        "id": "v2r_zejjj1Mc",
        "colab_type": "code",
        "colab": {}
      },
      "source": [
        "methods = ['log2', 'log2_minmax', 'standard', 'minmax', 'max_abs', 'robust', 'power', 'quantile', 'rankgauss']"
      ],
      "execution_count": null,
      "outputs": []
    },
    {
      "cell_type": "code",
      "metadata": {
        "id": "zZeKiJk7cABP",
        "colab_type": "code",
        "colab": {}
      },
      "source": [
        "%%time\n",
        "scaled_datasets4 = []\n",
        "for i, d in enumerate(mean_datasets4):\n",
        "  print(i)\n",
        "  scaled_datasets4.append(pp.scale_with_scalers(d, methods))"
      ],
      "execution_count": null,
      "outputs": []
    },
    {
      "cell_type": "code",
      "metadata": {
        "id": "LU5nmbpsgFeB",
        "colab_type": "code",
        "colab": {}
      },
      "source": [
        "from itertools import combinations\n",
        "orders = list(range(len(mean_datasets4)))\n",
        "orders = list(combinations(orders, 2))\n",
        "orders"
      ],
      "execution_count": null,
      "outputs": []
    },
    {
      "cell_type": "code",
      "metadata": {
        "id": "ku3kfDP5i3LZ",
        "colab_type": "code",
        "colab": {}
      },
      "source": [
        "%%time\n",
        "## 알고리즘 별로 분포가 비슷한 컬럼셋 도출\n",
        "cols_dict = dict()\n",
        "remain_clfs_dict = dict()\n",
        "for m in methods:\n",
        "  print(m)\n",
        "  for o1, o2 in orders:\n",
        "    if m in cols_dict.keys():\n",
        "      cols = sorted(set(intersect_cols).intersection(set(cols_dict[m])))\n",
        "      cols_dict[m] = pp.compare_two_samples_and_draw_feasible_columns(scaled_datasets4[o1][m][cols], scaled_datasets4[o2][m][cols])\n",
        "    else:\n",
        "      cols_dict[m] = pp.compare_two_samples_and_draw_feasible_columns(scaled_datasets4[o1][m], scaled_datasets4[o2][m])\n",
        "  print(len(cols_dict[m]), cols_dict[m])\n",
        "  if len(cols_dict[m]) > 0:\n",
        "    remain_clfs_dict[m] = dict()\n",
        "    for key in clfs_dict.keys():\n",
        "      rrr = sorted(set(clfs_dict[key][2]).intersection(set(cols_dict[m])))\n",
        "      rr = len(rrr) / clfs_dict[key][0] * 100.0\n",
        "      r = clfs_dict[key][1] * rr\n",
        "      remain_clfs_dict[m][key] = [rrr, rr, r]\n",
        "      print(f'{m}-{key}: {len(rrr)}({r} % from the original, {rr} % from the reduced) remaines')"
      ],
      "execution_count": null,
      "outputs": []
    },
    {
      "cell_type": "code",
      "metadata": {
        "id": "YwH2VTqKymqj",
        "colab_type": "code",
        "colab": {}
      },
      "source": [
        "%%time\n",
        "remain_mth_datasets = dict()\n",
        "for m in remain_clfs_dict.keys():\n",
        "  if sum(map(lambda x: x[1] == 100.0, remain_clfs_dict[m].values())) == len(clfs_dict):\n",
        "    print(m)\n",
        "    tmp = []\n",
        "    for ll in scaled_datasets4:\n",
        "      tmp.append(ll[m][cols_dict[m]])\n",
        "    remain_mth_datasets[m] = tmp"
      ],
      "execution_count": null,
      "outputs": []
    },
    {
      "cell_type": "code",
      "metadata": {
        "id": "GbLLsqHjo_ft",
        "colab_type": "code",
        "colab": {}
      },
      "source": [
        "ut.save_data(remain_clfs_dict, f'{home_path}scaled_datasets_3mths.pkl', 'pickle')"
      ],
      "execution_count": null,
      "outputs": []
    },
    {
      "cell_type": "code",
      "metadata": {
        "id": "KXBBp-OCAUWB",
        "colab_type": "code",
        "colab": {}
      },
      "source": [
        ""
      ],
      "execution_count": null,
      "outputs": []
    }
  ]
}