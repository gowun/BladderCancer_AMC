{
  "nbformat": 4,
  "nbformat_minor": 0,
  "metadata": {
    "colab": {
      "name": "Data_to_Pickle.ipynb",
      "provenance": [],
      "private_outputs": true,
      "collapsed_sections": []
    },
    "kernelspec": {
      "name": "python3",
      "display_name": "Python 3"
    }
  },
  "cells": [
    {
      "cell_type": "code",
      "metadata": {
        "id": "pqtBeJsCd7Oy",
        "colab_type": "code",
        "colab": {}
      },
      "source": [
        "from google.colab import auth\n",
        "from google.colab import drive\n",
        "import pandas as pd\n",
        "import numpy as np\n",
        "\n",
        "pd.set_option('display.max_colwidth', -1)\n",
        "\n",
        "auth.authenticate_user()\n",
        "drive.mount('/content/gdrive')\n",
        "home_path = '/content/gdrive/My Drive/BladderCancer_AMC/'"
      ],
      "execution_count": null,
      "outputs": []
    },
    {
      "cell_type": "code",
      "metadata": {
        "id": "R-9ddKn2d-k2",
        "colab_type": "code",
        "colab": {}
      },
      "source": [
        "!git clone https://github.com/gowun/BladderCancer_AMC.git"
      ],
      "execution_count": null,
      "outputs": []
    },
    {
      "cell_type": "code",
      "metadata": {
        "id": "VVoI1h9geXpU",
        "colab_type": "code",
        "colab": {}
      },
      "source": [
        "from BladderCancer_AMC.ModelingTools import utils as ut"
      ],
      "execution_count": null,
      "outputs": []
    },
    {
      "cell_type": "code",
      "metadata": {
        "id": "VnfwNS7t6J4Z",
        "colab_type": "code",
        "colab": {}
      },
      "source": [
        "def convert_to_pd_df(org_df, index_col):\n",
        "  df = org_df.T\n",
        "  df.columns = df.iloc[0]\n",
        "  df = df.iloc[1:]\n",
        "  tmp = np.array([0] * len(df))\n",
        "  tmp[np.array(list(map(lambda x: x[0] in ['1', 'R'], df.index)))] = 1\n",
        "  df['response'] = tmp\n",
        "  df = df.set_index(index_col)\n",
        "  return df.astype(float)"
      ],
      "execution_count": null,
      "outputs": []
    },
    {
      "cell_type": "code",
      "metadata": {
        "id": "OBjfuTKpgDdR",
        "colab_type": "code",
        "colab": {}
      },
      "source": [
        "mda_mvac = ut.load_data(home_path + 'MDA_MVAC.csv', 'csv')\n",
        "mda_mvac"
      ],
      "execution_count": null,
      "outputs": []
    },
    {
      "cell_type": "code",
      "metadata": {
        "id": "jT8GI15IubWf",
        "colab_type": "code",
        "colab": {}
      },
      "source": [
        "nan_idx = np.array(range(len(mda_mvac)))[np.array(mda_mvac['Response'].isna())]"
      ],
      "execution_count": null,
      "outputs": []
    },
    {
      "cell_type": "code",
      "metadata": {
        "id": "0guBwJ6Juyfu",
        "colab_type": "code",
        "colab": {}
      },
      "source": [
        "mda_mvac.iloc[nan_idx]"
      ],
      "execution_count": null,
      "outputs": []
    },
    {
      "cell_type": "code",
      "metadata": {
        "id": "53pGEAcDR9RI",
        "colab_type": "code",
        "colab": {}
      },
      "source": [
        "mda_mvac = mda_mvac.drop(nan_idx)\n",
        "mda_mvac.shape"
      ],
      "execution_count": null,
      "outputs": []
    },
    {
      "cell_type": "code",
      "metadata": {
        "id": "XSQkxHdUSQwh",
        "colab_type": "code",
        "colab": {}
      },
      "source": [
        "mda_mvac = convert_to_pd_df(mda_mvac, 'Gene Symbol')\n",
        "mda_mvac"
      ],
      "execution_count": null,
      "outputs": []
    },
    {
      "cell_type": "code",
      "metadata": {
        "id": "7h8DU-C1iueg",
        "colab_type": "code",
        "colab": {}
      },
      "source": [
        "ut.save_data(mda_mvac, home_path + 'mda_mvac.pkl', 'pickle')"
      ],
      "execution_count": null,
      "outputs": []
    },
    {
      "cell_type": "code",
      "metadata": {
        "id": "OLoAHCLxjWh4",
        "colab_type": "code",
        "colab": {}
      },
      "source": [
        "mda_ddmvac = ut.load_data(home_path + 'MDA_DDMVAC.csv', 'csv')\n",
        "mda_ddmvac"
      ],
      "execution_count": null,
      "outputs": []
    },
    {
      "cell_type": "code",
      "metadata": {
        "id": "5N-vmL4oSf4M",
        "colab_type": "code",
        "colab": {}
      },
      "source": [
        "sorted(set(mda_mvac.columns))"
      ],
      "execution_count": null,
      "outputs": []
    },
    {
      "cell_type": "code",
      "metadata": {
        "id": "ISwgylLx6lSJ",
        "colab_type": "code",
        "colab": {}
      },
      "source": [
        "mda_ddmvac = convert_to_pd_df(mda_ddmvac, 'Gene Symbol')\n",
        "mda_ddmvac"
      ],
      "execution_count": null,
      "outputs": []
    },
    {
      "cell_type": "code",
      "metadata": {
        "id": "Slio4V42Sm38",
        "colab_type": "code",
        "colab": {}
      },
      "source": [
        "sorted(set(mda_ddmvac.columns))"
      ],
      "execution_count": null,
      "outputs": []
    },
    {
      "cell_type": "code",
      "metadata": {
        "id": "yG-_GdyzpMVJ",
        "colab_type": "code",
        "colab": {}
      },
      "source": [
        "ut.save_data(mda_ddmvac.astype(float), home_path + 'mda_ddmvac.pkl', 'pickle')"
      ],
      "execution_count": null,
      "outputs": []
    },
    {
      "cell_type": "code",
      "metadata": {
        "id": "ljph1d0wpSuh",
        "colab_type": "code",
        "colab": {}
      },
      "source": [
        "meta_datasets = ut.load_data(home_path + 'Meta_Datasets.csv', 'csv')\n",
        "meta_datasets"
      ],
      "execution_count": null,
      "outputs": []
    },
    {
      "cell_type": "code",
      "metadata": {
        "id": "kjryg9dA58OR",
        "colab_type": "code",
        "colab": {}
      },
      "source": [
        "meta_datasets = meta_datasets.iloc[:-1].drop(['Unnamed: 323'] + list(filter(lambda x: x[0] == '2', meta_datasets.columns)), 1)\n",
        "meta_datasets"
      ],
      "execution_count": null,
      "outputs": []
    },
    {
      "cell_type": "code",
      "metadata": {
        "id": "Xow4aggu683g",
        "colab_type": "code",
        "colab": {}
      },
      "source": [
        "meta_datasets = convert_to_pd_df(meta_datasets, 'Gene Symbol')\n",
        "meta_datasets"
      ],
      "execution_count": null,
      "outputs": []
    },
    {
      "cell_type": "code",
      "metadata": {
        "id": "SnBW61om8KGz",
        "colab_type": "code",
        "colab": {}
      },
      "source": [
        "ut.save_data(meta_datasets, home_path + 'meta_datasets.pkl', 'pickle')"
      ],
      "execution_count": null,
      "outputs": []
    },
    {
      "cell_type": "code",
      "metadata": {
        "id": "Mqa2-hsJ8SNv",
        "colab_type": "code",
        "colab": {}
      },
      "source": [
        "amc = ut.load_data(home_path + 'AMC.csv', 'csv')\n",
        "amc"
      ],
      "execution_count": null,
      "outputs": []
    },
    {
      "cell_type": "code",
      "metadata": {
        "id": "H-0JiRwS8YhX",
        "colab_type": "code",
        "colab": {}
      },
      "source": [
        "tmp = np.array(list(amc.columns[1:])).astype(float)\n",
        "tmp[tmp >= 2] = 0.0\n",
        "tmp"
      ],
      "execution_count": null,
      "outputs": []
    },
    {
      "cell_type": "code",
      "metadata": {
        "id": "kmJBW6Ud8yxe",
        "colab_type": "code",
        "colab": {}
      },
      "source": [
        "amc.columns = [list(amc.columns)[0]] + list(map(lambda x: str(int(x)), tmp))\n",
        "amc.head()"
      ],
      "execution_count": null,
      "outputs": []
    },
    {
      "cell_type": "code",
      "metadata": {
        "id": "zCV3syzP9As5",
        "colab_type": "code",
        "colab": {}
      },
      "source": [
        "amc = convert_to_pd_df(amc, 'Gene symbol')\n",
        "amc"
      ],
      "execution_count": null,
      "outputs": []
    },
    {
      "cell_type": "code",
      "metadata": {
        "id": "Ugs5cIEpSuxY",
        "colab_type": "code",
        "colab": {}
      },
      "source": [
        "sorted(set(amc.columns))"
      ],
      "execution_count": null,
      "outputs": []
    },
    {
      "cell_type": "code",
      "metadata": {
        "id": "m5535jFu9iEx",
        "colab_type": "code",
        "colab": {}
      },
      "source": [
        "ut.save_data(amc, home_path + 'amc.pkl', 'pickle')"
      ],
      "execution_count": null,
      "outputs": []
    },
    {
      "cell_type": "code",
      "metadata": {
        "id": "Md4DALhv-DRJ",
        "colab_type": "code",
        "colab": {}
      },
      "source": [
        ""
      ],
      "execution_count": null,
      "outputs": []
    }
  ]
}